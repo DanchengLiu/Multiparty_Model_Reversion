{
  "nbformat": 4,
  "nbformat_minor": 0,
  "metadata": {
    "colab": {
      "provenance": [],
      "machine_shape": "hm",
      "gpuType": "T4",
      "include_colab_link": true
    },
    "kernelspec": {
      "name": "python3",
      "display_name": "Python 3"
    },
    "language_info": {
      "name": "python"
    },
    "accelerator": "GPU"
  },
  "cells": [
    {
      "cell_type": "markdown",
      "metadata": {
        "id": "view-in-github",
        "colab_type": "text"
      },
      "source": [
        "<a href=\"https://colab.research.google.com/github/DanchengLiu/Multiparty_Model_Reversion/blob/main/Res18_v3_CIFAR_3_party_trend.ipynb\" target=\"_parent\"><img src=\"https://colab.research.google.com/assets/colab-badge.svg\" alt=\"Open In Colab\"/></a>"
      ]
    },
    {
      "cell_type": "markdown",
      "source": [
        "## import and data"
      ],
      "metadata": {
        "id": "lU4vaS7nvDcW"
      }
    },
    {
      "cell_type": "code",
      "source": [
        "!gdown 17fmN8eQdLpq2jIMQ_X0IXDPXfI9oVWgq"
      ],
      "metadata": {
        "colab": {
          "base_uri": "https://localhost:8080/"
        },
        "id": "alIdFkTqodP4",
        "outputId": "6d04ce1b-9c15-45af-ad9f-36d1dfef5e9d"
      },
      "execution_count": 1,
      "outputs": [
        {
          "output_type": "stream",
          "name": "stdout",
          "text": [
            "Downloading...\n",
            "From: https://drive.google.com/uc?id=17fmN8eQdLpq2jIMQ_X0IXDPXfI9oVWgq\n",
            "To: /content/state_dicts.zip\n",
            "100% 979M/979M [00:09<00:00, 101MB/s]\n"
          ]
        }
      ]
    },
    {
      "cell_type": "code",
      "source": [
        "!unzip state_dicts.zip"
      ],
      "metadata": {
        "colab": {
          "base_uri": "https://localhost:8080/"
        },
        "id": "lCZJYhQdpSIG",
        "outputId": "297f706b-6f63-48f6-b273-6fb230e4ca2b"
      },
      "execution_count": 2,
      "outputs": [
        {
          "output_type": "stream",
          "name": "stdout",
          "text": [
            "Archive:  state_dicts.zip\n",
            "   creating: state_dicts/\n",
            "  inflating: state_dicts/googlenet.pt  \n",
            "  inflating: state_dicts/vgg11_bn.pt  \n",
            "  inflating: state_dicts/vgg13_bn.pt  \n",
            "  inflating: state_dicts/resnet18.pt  \n",
            "  inflating: state_dicts/vgg19_bn.pt  \n",
            "  inflating: state_dicts/vgg16_bn.pt  \n",
            "  inflating: state_dicts/mobilenet_v2.pt  \n",
            "  inflating: state_dicts/inception_v3.pt  \n",
            "  inflating: state_dicts/densenet121.pt  \n",
            "  inflating: state_dicts/resnet34.pt  \n",
            "  inflating: state_dicts/densenet161.pt  \n",
            "  inflating: state_dicts/densenet169.pt  \n",
            "  inflating: state_dicts/resnet50.pt  \n"
          ]
        }
      ]
    },
    {
      "cell_type": "code",
      "execution_count": 3,
      "metadata": {
        "id": "juOnfTYQZymE"
      },
      "outputs": [],
      "source": [
        "import torch\n",
        "import torchvision\n",
        "import torchvision.transforms as transforms\n",
        "\n",
        "import numpy as np\n",
        "import matplotlib.pyplot as plt\n",
        "\n",
        "import torch.optim as optim\n",
        "\n",
        "import torch.nn as nn\n",
        "import torch.nn.functional as F"
      ]
    },
    {
      "cell_type": "code",
      "source": [
        "train_transform = transforms.Compose(\n",
        "    [transforms.RandomCrop(32, padding=4),\n",
        "     transforms.RandomHorizontalFlip(),\n",
        "     transforms.ToTensor(),\n",
        "     transforms.Normalize((0.4914, 0.4822, 0.4465), (0.2471, 0.2435, 0.2616))])\n",
        "\n",
        "test_transform = transforms.Compose(\n",
        "    [transforms.ToTensor(),\n",
        "     transforms.Normalize((0.4914, 0.4822, 0.4465), (0.2471, 0.2435, 0.2616))])\n",
        "batch_size = 256\n",
        "\n",
        "trainset = torchvision.datasets.CIFAR10(root='./data', train=True,\n",
        "                                        download=True, transform=train_transform)\n",
        "trainloader = torch.utils.data.DataLoader(trainset, batch_size=batch_size,\n",
        "                                          shuffle=True, num_workers=0)\n",
        "\n",
        "testset = torchvision.datasets.CIFAR10(root='./data', train=False,\n",
        "                                       download=True, transform=test_transform)\n",
        "testloader = torch.utils.data.DataLoader(testset, batch_size=batch_size,\n",
        "                                         shuffle=False, num_workers=0)\n",
        "\n",
        "classes = ('plane', 'car', 'bird', 'cat',\n",
        "           'deer', 'dog', 'frog', 'horse', 'ship', 'truck')"
      ],
      "metadata": {
        "id": "1Spvz8ywZ-uB",
        "colab": {
          "base_uri": "https://localhost:8080/"
        },
        "outputId": "17828d1a-ca99-4d84-b333-19f829feb65f"
      },
      "execution_count": 4,
      "outputs": [
        {
          "output_type": "stream",
          "name": "stdout",
          "text": [
            "Downloading https://www.cs.toronto.edu/~kriz/cifar-10-python.tar.gz to ./data/cifar-10-python.tar.gz\n"
          ]
        },
        {
          "output_type": "stream",
          "name": "stderr",
          "text": [
            "100%|██████████| 170498071/170498071 [00:02<00:00, 78236672.60it/s]\n"
          ]
        },
        {
          "output_type": "stream",
          "name": "stdout",
          "text": [
            "Extracting ./data/cifar-10-python.tar.gz to ./data\n",
            "Files already downloaded and verified\n"
          ]
        }
      ]
    },
    {
      "cell_type": "code",
      "source": [
        "device = torch.device(\"cuda:0\" if torch.cuda.is_available() else \"cpu\")\n",
        "print(device)"
      ],
      "metadata": {
        "colab": {
          "base_uri": "https://localhost:8080/"
        },
        "id": "BQW-wBeDaEW8",
        "outputId": "753f23cf-06cb-4f5d-a9ff-70b9555b4daa"
      },
      "execution_count": 5,
      "outputs": [
        {
          "output_type": "stream",
          "name": "stdout",
          "text": [
            "cuda:0\n"
          ]
        }
      ]
    },
    {
      "cell_type": "code",
      "source": [],
      "metadata": {
        "id": "-s-1VTjA0Nj-"
      },
      "execution_count": null,
      "outputs": []
    },
    {
      "cell_type": "markdown",
      "source": [
        "## base model: ResNet"
      ],
      "metadata": {
        "id": "UqsxoJOs7Aw5"
      }
    },
    {
      "cell_type": "code",
      "source": [
        "import torch\n",
        "import torch.nn as nn\n",
        "import os\n",
        "\n",
        "__all__ = [\n",
        "    \"ResNet\",\n",
        "    \"resnet18\",\n",
        "    \"resnet34\",\n",
        "    \"resnet50\",\n",
        "]\n",
        "\n",
        "\n",
        "def conv3x3(in_planes, out_planes, stride=1, groups=1, dilation=1):\n",
        "    \"\"\"3x3 convolution with padding\"\"\"\n",
        "    return nn.Conv2d(\n",
        "        in_planes,\n",
        "        out_planes,\n",
        "        kernel_size=3,\n",
        "        stride=stride,\n",
        "        padding=dilation,\n",
        "        groups=groups,\n",
        "        bias=False,\n",
        "        dilation=dilation,\n",
        "    )\n",
        "\n",
        "\n",
        "def conv1x1(in_planes, out_planes, stride=1):\n",
        "    \"\"\"1x1 convolution\"\"\"\n",
        "    return nn.Conv2d(in_planes, out_planes, kernel_size=1, stride=stride, bias=False)\n",
        "\n",
        "\n",
        "class BasicBlock(nn.Module):\n",
        "    expansion = 1\n",
        "\n",
        "    def __init__(\n",
        "        self,\n",
        "        inplanes,\n",
        "        planes,\n",
        "        stride=1,\n",
        "        downsample=None,\n",
        "        groups=1,\n",
        "        base_width=64,\n",
        "        dilation=1,\n",
        "        norm_layer=None,\n",
        "    ):\n",
        "        super(BasicBlock, self).__init__()\n",
        "        if norm_layer is None:\n",
        "            norm_layer = nn.BatchNorm2d\n",
        "        if groups != 1 or base_width != 64:\n",
        "            raise ValueError(\"BasicBlock only supports groups=1 and base_width=64\")\n",
        "        if dilation > 1:\n",
        "            raise NotImplementedError(\"Dilation > 1 not supported in BasicBlock\")\n",
        "        # Both self.conv1 and self.downsample layers downsample the input when stride != 1\n",
        "        self.conv1 = conv3x3(inplanes, planes, stride)\n",
        "        self.bn1 = norm_layer(planes)\n",
        "        self.relu = nn.ReLU(inplace=True)\n",
        "        self.conv2 = conv3x3(planes, planes)\n",
        "        self.bn2 = norm_layer(planes)\n",
        "        self.downsample = downsample\n",
        "        self.stride = stride\n",
        "\n",
        "    def forward(self, x):\n",
        "        identity = x\n",
        "\n",
        "        out = self.conv1(x)\n",
        "        out = self.bn1(out)\n",
        "        out = self.relu(out)\n",
        "\n",
        "        out = self.conv2(out)\n",
        "        out = self.bn2(out)\n",
        "\n",
        "        if self.downsample is not None:\n",
        "            identity = self.downsample(x)\n",
        "\n",
        "        out += identity\n",
        "        out = self.relu(out)\n",
        "\n",
        "        return out\n",
        "\n",
        "\n",
        "class Bottleneck(nn.Module):\n",
        "    expansion = 4\n",
        "\n",
        "    def __init__(\n",
        "        self,\n",
        "        inplanes,\n",
        "        planes,\n",
        "        stride=1,\n",
        "        downsample=None,\n",
        "        groups=1,\n",
        "        base_width=64,\n",
        "        dilation=1,\n",
        "        norm_layer=None,\n",
        "    ):\n",
        "        super(Bottleneck, self).__init__()\n",
        "        if norm_layer is None:\n",
        "            norm_layer = nn.BatchNorm2d\n",
        "        width = int(planes * (base_width / 64.0)) * groups\n",
        "        # Both self.conv2 and self.downsample layers downsample the input when stride != 1\n",
        "        self.conv1 = conv1x1(inplanes, width)\n",
        "        self.bn1 = norm_layer(width)\n",
        "        self.conv2 = conv3x3(width, width, stride, groups, dilation)\n",
        "        self.bn2 = norm_layer(width)\n",
        "        self.conv3 = conv1x1(width, planes * self.expansion)\n",
        "        self.bn3 = norm_layer(planes * self.expansion)\n",
        "        self.relu = nn.ReLU(inplace=True)\n",
        "        self.downsample = downsample\n",
        "        self.stride = stride\n",
        "\n",
        "    def forward(self, x):\n",
        "        identity = x\n",
        "\n",
        "        out = self.conv1(x)\n",
        "        out = self.bn1(out)\n",
        "        out = self.relu(out)\n",
        "\n",
        "        out = self.conv2(out)\n",
        "        out = self.bn2(out)\n",
        "        out = self.relu(out)\n",
        "\n",
        "        out = self.conv3(out)\n",
        "        out = self.bn3(out)\n",
        "\n",
        "        if self.downsample is not None:\n",
        "            identity = self.downsample(x)\n",
        "\n",
        "        out += identity\n",
        "        out = self.relu(out)\n",
        "\n",
        "        return out\n",
        "\n",
        "\n",
        "class ResNet(nn.Module):\n",
        "    def __init__(\n",
        "        self,\n",
        "        block,\n",
        "        layers,\n",
        "        num_classes=10,\n",
        "        zero_init_residual=False,\n",
        "        groups=1,\n",
        "        width_per_group=64,\n",
        "        replace_stride_with_dilation=None,\n",
        "        norm_layer=None,\n",
        "    ):\n",
        "        super(ResNet, self).__init__()\n",
        "        if norm_layer is None:\n",
        "            norm_layer = nn.BatchNorm2d\n",
        "        self._norm_layer = norm_layer\n",
        "\n",
        "        self.inplanes = 64\n",
        "        self.dilation = 1\n",
        "        if replace_stride_with_dilation is None:\n",
        "            # each element in the tuple indicates if we should replace\n",
        "            # the 2x2 stride with a dilated convolution instead\n",
        "            replace_stride_with_dilation = [False, False, False]\n",
        "        if len(replace_stride_with_dilation) != 3:\n",
        "            raise ValueError(\n",
        "                \"replace_stride_with_dilation should be None \"\n",
        "                \"or a 3-element tuple, got {}\".format(replace_stride_with_dilation)\n",
        "            )\n",
        "        self.groups = groups\n",
        "        self.base_width = width_per_group\n",
        "\n",
        "        # CIFAR10: kernel_size 7 -> 3, stride 2 -> 1, padding 3->1\n",
        "        self.conv1 = nn.Conv2d(\n",
        "            3, self.inplanes, kernel_size=3, stride=1, padding=1, bias=False\n",
        "        )\n",
        "        # END\n",
        "\n",
        "        self.bn1 = norm_layer(self.inplanes)\n",
        "        self.relu = nn.ReLU(inplace=True)\n",
        "        self.maxpool = nn.MaxPool2d(kernel_size=3, stride=2, padding=1)\n",
        "        self.layer1 = self._make_layer(block, 64, layers[0])\n",
        "        self.layer2 = self._make_layer(\n",
        "            block, 128, layers[1], stride=2, dilate=replace_stride_with_dilation[0]\n",
        "        )\n",
        "        self.layer3 = self._make_layer(\n",
        "            block, 256, layers[2], stride=2, dilate=replace_stride_with_dilation[1]\n",
        "        )\n",
        "        self.layer4 = self._make_layer(\n",
        "            block, 512, layers[3], stride=2, dilate=replace_stride_with_dilation[2]\n",
        "        )\n",
        "        self.avgpool = nn.AdaptiveAvgPool2d((1, 1))\n",
        "        self.fc = nn.Linear(512 * block.expansion, num_classes)\n",
        "\n",
        "        for m in self.modules():\n",
        "            if isinstance(m, nn.Conv2d):\n",
        "                nn.init.kaiming_normal_(m.weight, mode=\"fan_out\", nonlinearity=\"relu\")\n",
        "            elif isinstance(m, (nn.BatchNorm2d, nn.GroupNorm)):\n",
        "                nn.init.constant_(m.weight, 1)\n",
        "                nn.init.constant_(m.bias, 0)\n",
        "\n",
        "        # Zero-initialize the last BN in each residual branch,\n",
        "        # so that the residual branch starts with zeros, and each residual block behaves like an identity.\n",
        "        # This improves the model by 0.2~0.3% according to https://arxiv.org/abs/1706.02677\n",
        "        if zero_init_residual:\n",
        "            for m in self.modules():\n",
        "                if isinstance(m, Bottleneck):\n",
        "                    nn.init.constant_(m.bn3.weight, 0)\n",
        "                elif isinstance(m, BasicBlock):\n",
        "                    nn.init.constant_(m.bn2.weight, 0)\n",
        "\n",
        "    def _make_layer(self, block, planes, blocks, stride=1, dilate=False):\n",
        "        norm_layer = self._norm_layer\n",
        "        downsample = None\n",
        "        previous_dilation = self.dilation\n",
        "        if dilate:\n",
        "            self.dilation *= stride\n",
        "            stride = 1\n",
        "        if stride != 1 or self.inplanes != planes * block.expansion:\n",
        "            downsample = nn.Sequential(\n",
        "                conv1x1(self.inplanes, planes * block.expansion, stride),\n",
        "                norm_layer(planes * block.expansion),\n",
        "            )\n",
        "\n",
        "        layers = []\n",
        "        layers.append(\n",
        "            block(\n",
        "                self.inplanes,\n",
        "                planes,\n",
        "                stride,\n",
        "                downsample,\n",
        "                self.groups,\n",
        "                self.base_width,\n",
        "                previous_dilation,\n",
        "                norm_layer,\n",
        "            )\n",
        "        )\n",
        "        self.inplanes = planes * block.expansion\n",
        "        for _ in range(1, blocks):\n",
        "            layers.append(\n",
        "                block(\n",
        "                    self.inplanes,\n",
        "                    planes,\n",
        "                    groups=self.groups,\n",
        "                    base_width=self.base_width,\n",
        "                    dilation=self.dilation,\n",
        "                    norm_layer=norm_layer,\n",
        "                )\n",
        "            )\n",
        "\n",
        "        return nn.Sequential(*layers)\n",
        "\n",
        "    def forward(self, x):\n",
        "        x = self.conv1(x)\n",
        "        x = self.bn1(x)\n",
        "        x = self.relu(x)\n",
        "        x = self.maxpool(x)\n",
        "\n",
        "        x = self.layer1(x)\n",
        "        x = self.layer2(x)\n",
        "        x = self.layer3(x)\n",
        "        x = self.layer4(x)\n",
        "\n",
        "        x = self.avgpool(x)\n",
        "        x = x.reshape(x.size(0), -1)\n",
        "        x = self.fc(x)\n",
        "\n",
        "        return x\n",
        "\n",
        "    def partial_eval(self, x):\n",
        "        x = self.conv1(x)\n",
        "        x = self.bn1(x)\n",
        "        x = self.relu(x)\n",
        "        x = self.maxpool(x)\n",
        "\n",
        "        x = self.layer1(x)\n",
        "        return x\n",
        "\n",
        "def _resnet(arch, block, layers, pretrained, progress, device, **kwargs):\n",
        "    model = ResNet(block, layers, **kwargs)\n",
        "    if pretrained:\n",
        "        #script_dir = os.path.dirname(__file__)\n",
        "        state_dict = torch.load(\n",
        "            \"./state_dicts/\" + arch + \".pt\", map_location=device\n",
        "        )\n",
        "        model.load_state_dict(state_dict)\n",
        "    return model\n",
        "\n",
        "\n",
        "def resnet18(pretrained=False, progress=True, device=\"cpu\", **kwargs):\n",
        "    \"\"\"Constructs a ResNet-18 model.\n",
        "    Args:\n",
        "        pretrained (bool): If True, returns a model pre-trained on ImageNet\n",
        "        progress (bool): If True, displays a progress bar of the download to stderr\n",
        "    \"\"\"\n",
        "    return _resnet(\n",
        "        \"resnet18\", BasicBlock, [2, 2, 2, 2], pretrained, progress, device, **kwargs\n",
        "    )\n",
        "\n",
        "\n",
        "def resnet34(pretrained=False, progress=True, device=\"cpu\", **kwargs):\n",
        "    \"\"\"Constructs a ResNet-34 model.\n",
        "    Args:\n",
        "        pretrained (bool): If True, returns a model pre-trained on ImageNet\n",
        "        progress (bool): If True, displays a progress bar of the download to stderr\n",
        "    \"\"\"\n",
        "    return _resnet(\n",
        "        \"resnet34\", BasicBlock, [3, 4, 6, 3], pretrained, progress, device, **kwargs\n",
        "    )\n",
        "\n",
        "\n",
        "def resnet50(pretrained=False, progress=True, device=\"cpu\", **kwargs):\n",
        "    \"\"\"Constructs a ResNet-50 model.\n",
        "    Args:\n",
        "        pretrained (bool): If True, returns a model pre-trained on ImageNet\n",
        "        progress (bool): If True, displays a progress bar of the download to stderr\n",
        "    \"\"\"\n",
        "    return _resnet(\n",
        "        \"resnet50\", Bottleneck, [3, 4, 6, 3], pretrained, progress, device, **kwargs\n",
        "    )"
      ],
      "metadata": {
        "id": "cLWuFi1ke--g"
      },
      "execution_count": 6,
      "outputs": []
    },
    {
      "cell_type": "code",
      "source": [],
      "metadata": {
        "id": "h_RQrcnGaSWE"
      },
      "execution_count": 6,
      "outputs": []
    },
    {
      "cell_type": "code",
      "source": [],
      "metadata": {
        "id": "Ionpql9Egkjj"
      },
      "execution_count": 6,
      "outputs": []
    },
    {
      "cell_type": "code",
      "source": [
        "net = resnet18(pretrained=True, progress=True, device=device)\n",
        "net.to(device)"
      ],
      "metadata": {
        "colab": {
          "base_uri": "https://localhost:8080/"
        },
        "id": "wUeqbykKfbi4",
        "outputId": "ed05de7b-f1f2-456b-ba20-6e12846e6ad0"
      },
      "execution_count": 7,
      "outputs": [
        {
          "output_type": "execute_result",
          "data": {
            "text/plain": [
              "ResNet(\n",
              "  (conv1): Conv2d(3, 64, kernel_size=(3, 3), stride=(1, 1), padding=(1, 1), bias=False)\n",
              "  (bn1): BatchNorm2d(64, eps=1e-05, momentum=0.1, affine=True, track_running_stats=True)\n",
              "  (relu): ReLU(inplace=True)\n",
              "  (maxpool): MaxPool2d(kernel_size=3, stride=2, padding=1, dilation=1, ceil_mode=False)\n",
              "  (layer1): Sequential(\n",
              "    (0): BasicBlock(\n",
              "      (conv1): Conv2d(64, 64, kernel_size=(3, 3), stride=(1, 1), padding=(1, 1), bias=False)\n",
              "      (bn1): BatchNorm2d(64, eps=1e-05, momentum=0.1, affine=True, track_running_stats=True)\n",
              "      (relu): ReLU(inplace=True)\n",
              "      (conv2): Conv2d(64, 64, kernel_size=(3, 3), stride=(1, 1), padding=(1, 1), bias=False)\n",
              "      (bn2): BatchNorm2d(64, eps=1e-05, momentum=0.1, affine=True, track_running_stats=True)\n",
              "    )\n",
              "    (1): BasicBlock(\n",
              "      (conv1): Conv2d(64, 64, kernel_size=(3, 3), stride=(1, 1), padding=(1, 1), bias=False)\n",
              "      (bn1): BatchNorm2d(64, eps=1e-05, momentum=0.1, affine=True, track_running_stats=True)\n",
              "      (relu): ReLU(inplace=True)\n",
              "      (conv2): Conv2d(64, 64, kernel_size=(3, 3), stride=(1, 1), padding=(1, 1), bias=False)\n",
              "      (bn2): BatchNorm2d(64, eps=1e-05, momentum=0.1, affine=True, track_running_stats=True)\n",
              "    )\n",
              "  )\n",
              "  (layer2): Sequential(\n",
              "    (0): BasicBlock(\n",
              "      (conv1): Conv2d(64, 128, kernel_size=(3, 3), stride=(2, 2), padding=(1, 1), bias=False)\n",
              "      (bn1): BatchNorm2d(128, eps=1e-05, momentum=0.1, affine=True, track_running_stats=True)\n",
              "      (relu): ReLU(inplace=True)\n",
              "      (conv2): Conv2d(128, 128, kernel_size=(3, 3), stride=(1, 1), padding=(1, 1), bias=False)\n",
              "      (bn2): BatchNorm2d(128, eps=1e-05, momentum=0.1, affine=True, track_running_stats=True)\n",
              "      (downsample): Sequential(\n",
              "        (0): Conv2d(64, 128, kernel_size=(1, 1), stride=(2, 2), bias=False)\n",
              "        (1): BatchNorm2d(128, eps=1e-05, momentum=0.1, affine=True, track_running_stats=True)\n",
              "      )\n",
              "    )\n",
              "    (1): BasicBlock(\n",
              "      (conv1): Conv2d(128, 128, kernel_size=(3, 3), stride=(1, 1), padding=(1, 1), bias=False)\n",
              "      (bn1): BatchNorm2d(128, eps=1e-05, momentum=0.1, affine=True, track_running_stats=True)\n",
              "      (relu): ReLU(inplace=True)\n",
              "      (conv2): Conv2d(128, 128, kernel_size=(3, 3), stride=(1, 1), padding=(1, 1), bias=False)\n",
              "      (bn2): BatchNorm2d(128, eps=1e-05, momentum=0.1, affine=True, track_running_stats=True)\n",
              "    )\n",
              "  )\n",
              "  (layer3): Sequential(\n",
              "    (0): BasicBlock(\n",
              "      (conv1): Conv2d(128, 256, kernel_size=(3, 3), stride=(2, 2), padding=(1, 1), bias=False)\n",
              "      (bn1): BatchNorm2d(256, eps=1e-05, momentum=0.1, affine=True, track_running_stats=True)\n",
              "      (relu): ReLU(inplace=True)\n",
              "      (conv2): Conv2d(256, 256, kernel_size=(3, 3), stride=(1, 1), padding=(1, 1), bias=False)\n",
              "      (bn2): BatchNorm2d(256, eps=1e-05, momentum=0.1, affine=True, track_running_stats=True)\n",
              "      (downsample): Sequential(\n",
              "        (0): Conv2d(128, 256, kernel_size=(1, 1), stride=(2, 2), bias=False)\n",
              "        (1): BatchNorm2d(256, eps=1e-05, momentum=0.1, affine=True, track_running_stats=True)\n",
              "      )\n",
              "    )\n",
              "    (1): BasicBlock(\n",
              "      (conv1): Conv2d(256, 256, kernel_size=(3, 3), stride=(1, 1), padding=(1, 1), bias=False)\n",
              "      (bn1): BatchNorm2d(256, eps=1e-05, momentum=0.1, affine=True, track_running_stats=True)\n",
              "      (relu): ReLU(inplace=True)\n",
              "      (conv2): Conv2d(256, 256, kernel_size=(3, 3), stride=(1, 1), padding=(1, 1), bias=False)\n",
              "      (bn2): BatchNorm2d(256, eps=1e-05, momentum=0.1, affine=True, track_running_stats=True)\n",
              "    )\n",
              "  )\n",
              "  (layer4): Sequential(\n",
              "    (0): BasicBlock(\n",
              "      (conv1): Conv2d(256, 512, kernel_size=(3, 3), stride=(2, 2), padding=(1, 1), bias=False)\n",
              "      (bn1): BatchNorm2d(512, eps=1e-05, momentum=0.1, affine=True, track_running_stats=True)\n",
              "      (relu): ReLU(inplace=True)\n",
              "      (conv2): Conv2d(512, 512, kernel_size=(3, 3), stride=(1, 1), padding=(1, 1), bias=False)\n",
              "      (bn2): BatchNorm2d(512, eps=1e-05, momentum=0.1, affine=True, track_running_stats=True)\n",
              "      (downsample): Sequential(\n",
              "        (0): Conv2d(256, 512, kernel_size=(1, 1), stride=(2, 2), bias=False)\n",
              "        (1): BatchNorm2d(512, eps=1e-05, momentum=0.1, affine=True, track_running_stats=True)\n",
              "      )\n",
              "    )\n",
              "    (1): BasicBlock(\n",
              "      (conv1): Conv2d(512, 512, kernel_size=(3, 3), stride=(1, 1), padding=(1, 1), bias=False)\n",
              "      (bn1): BatchNorm2d(512, eps=1e-05, momentum=0.1, affine=True, track_running_stats=True)\n",
              "      (relu): ReLU(inplace=True)\n",
              "      (conv2): Conv2d(512, 512, kernel_size=(3, 3), stride=(1, 1), padding=(1, 1), bias=False)\n",
              "      (bn2): BatchNorm2d(512, eps=1e-05, momentum=0.1, affine=True, track_running_stats=True)\n",
              "    )\n",
              "  )\n",
              "  (avgpool): AdaptiveAvgPool2d(output_size=(1, 1))\n",
              "  (fc): Linear(in_features=512, out_features=10, bias=True)\n",
              ")"
            ]
          },
          "metadata": {},
          "execution_count": 7
        }
      ]
    },
    {
      "cell_type": "code",
      "source": [
        "#import pysgmcmc"
      ],
      "metadata": {
        "id": "L9FXCAEKs0jj"
      },
      "execution_count": null,
      "outputs": []
    },
    {
      "cell_type": "code",
      "source": [],
      "metadata": {
        "id": "K_vYvetWuaQU"
      },
      "execution_count": null,
      "outputs": []
    },
    {
      "cell_type": "code",
      "source": [
        "PATH = './Res18_v3.pth'\n",
        "#projection_weight_path = './LeNet_pr.pth'\n",
        "torch.save(net.state_dict(), PATH)\n",
        "#torch.save(net.projection, projection_weight_path)"
      ],
      "metadata": {
        "id": "gvyMOcaZfJ2r"
      },
      "execution_count": null,
      "outputs": []
    },
    {
      "cell_type": "code",
      "source": [
        "PATH = './Res18_v3.pth'\n",
        "#projection_weight_path = './LeNet_pr.pth'\n",
        "net = resnet18(pretrained=True, progress=True, device=device).to(device)\n",
        "net.load_state_dict(torch.load(PATH))\n",
        "#net.projection = torch.load(projection_weight_path)"
      ],
      "metadata": {
        "id": "DukyNWabfGx7",
        "colab": {
          "base_uri": "https://localhost:8080/"
        },
        "outputId": "1bbb8a50-8cad-409c-ca92-3fabd15779de"
      },
      "execution_count": null,
      "outputs": [
        {
          "output_type": "execute_result",
          "data": {
            "text/plain": [
              "<All keys matched successfully>"
            ]
          },
          "metadata": {},
          "execution_count": 18
        }
      ]
    },
    {
      "cell_type": "code",
      "source": [],
      "metadata": {
        "id": "-W6tyzlUnX_F"
      },
      "execution_count": null,
      "outputs": []
    },
    {
      "cell_type": "code",
      "source": [
        "correct = 0\n",
        "total = 0\n",
        "# since we're not training, we don't need to calculate the gradients for our outputs\n",
        "with torch.no_grad():\n",
        "    for data in testloader:\n",
        "        images, labels = data\n",
        "        images, labels = images.cuda(), labels.cuda()\n",
        "\n",
        "        # calculate outputs by running images through the network\n",
        "        outputs = net(images)\n",
        "        # the class with the highest energy is what we choose as prediction\n",
        "        _, predicted = torch.max(outputs.data, 1)\n",
        "        total += labels.size(0)\n",
        "        correct += (predicted == labels).sum().item()\n",
        "\n",
        "print('Accuracy of the network on the test images:'+str(correct / total))"
      ],
      "metadata": {
        "colab": {
          "base_uri": "https://localhost:8080/"
        },
        "id": "S8MEq-WzfA-b",
        "outputId": "9c323547-b991-4bbb-8e72-f3882fcd1296"
      },
      "execution_count": 8,
      "outputs": [
        {
          "output_type": "stream",
          "name": "stdout",
          "text": [
            "Accuracy of the network on the test images:0.9151\n"
          ]
        }
      ]
    },
    {
      "cell_type": "code",
      "source": [
        "\n",
        "from google.colab import drive\n",
        "drive.mount('/content/drive')\n",
        "!cp ./Res18_v3.pth /content/drive/MyDrive/Res18_v3.pth\n"
      ],
      "metadata": {
        "colab": {
          "base_uri": "https://localhost:8080/"
        },
        "id": "bJjO_FWLvVvs",
        "outputId": "d94d631e-4462-4b6c-8343-149f7798254c"
      },
      "execution_count": null,
      "outputs": [
        {
          "output_type": "stream",
          "name": "stdout",
          "text": [
            "Drive already mounted at /content/drive; to attempt to forcibly remount, call drive.mount(\"/content/drive\", force_remount=True).\n"
          ]
        }
      ]
    },
    {
      "cell_type": "code",
      "source": [],
      "metadata": {
        "id": "Ba751NqAvn9I"
      },
      "execution_count": null,
      "outputs": []
    },
    {
      "cell_type": "markdown",
      "source": [
        "## NN decryption 3 party (flexible)\n"
      ],
      "metadata": {
        "id": "cmBE5M2Xhgb-"
      }
    },
    {
      "cell_type": "code",
      "source": [
        "x_t = next(iter(testloader))\n",
        "x_t = x_t[0].to(device)\n",
        "r = net.partial_eval(x_t)\n",
        "print(r.shape)"
      ],
      "metadata": {
        "colab": {
          "base_uri": "https://localhost:8080/"
        },
        "id": "V-bAR2_Im0ns",
        "outputId": "3b976d1e-29e0-4446-d94a-a7c3b6a1b6c0"
      },
      "execution_count": null,
      "outputs": [
        {
          "output_type": "stream",
          "name": "stdout",
          "text": [
            "torch.Size([256, 64, 16, 16])\n"
          ]
        }
      ]
    },
    {
      "cell_type": "code",
      "source": [
        "print(x_t.shape)"
      ],
      "metadata": {
        "colab": {
          "base_uri": "https://localhost:8080/"
        },
        "id": "UEzN0QP_nXNb",
        "outputId": "de2f4012-721a-44f2-c339-76776c1dbeb3"
      },
      "execution_count": null,
      "outputs": [
        {
          "output_type": "stream",
          "name": "stdout",
          "text": [
            "torch.Size([256, 3, 32, 32])\n"
          ]
        }
      ]
    },
    {
      "cell_type": "code",
      "source": [
        "import copy"
      ],
      "metadata": {
        "id": "s00BlfiEcDLd"
      },
      "execution_count": null,
      "outputs": []
    },
    {
      "cell_type": "code",
      "source": [],
      "metadata": {
        "id": "Mu5gBa1FcLYK"
      },
      "execution_count": null,
      "outputs": []
    },
    {
      "cell_type": "code",
      "source": [
        "import torch\n",
        "import torch.nn as nn\n",
        "import os\n",
        "\n",
        "__all__ = [\n",
        "    \"ResNet\",\n",
        "    \"resnet18\",\n",
        "    \"resnet34\",\n",
        "    \"resnet50\",\n",
        "]\n",
        "\n",
        "\n",
        "def conv3x3(in_planes, out_planes, stride=1, groups=1, dilation=1):\n",
        "    \"\"\"3x3 convolution with padding\"\"\"\n",
        "    return nn.Conv2d(\n",
        "        in_planes,\n",
        "        out_planes,\n",
        "        kernel_size=3,\n",
        "        stride=stride,\n",
        "        padding=dilation,\n",
        "        groups=groups,\n",
        "        bias=False,\n",
        "        dilation=dilation,\n",
        "    )\n",
        "\n",
        "\n",
        "def conv1x1(in_planes, out_planes, stride=1):\n",
        "    \"\"\"1x1 convolution\"\"\"\n",
        "    return nn.Conv2d(in_planes, out_planes, kernel_size=1, stride=stride, bias=False)\n",
        "\n",
        "\n",
        "class BasicBlock(nn.Module):\n",
        "    expansion = 1\n",
        "\n",
        "    def __init__(\n",
        "        self,\n",
        "        inplanes,\n",
        "        planes,\n",
        "        stride=1,\n",
        "        downsample=None,\n",
        "        groups=1,\n",
        "        base_width=64,\n",
        "        dilation=1,\n",
        "        norm_layer=None,\n",
        "    ):\n",
        "        super(BasicBlock, self).__init__()\n",
        "        if norm_layer is None:\n",
        "            norm_layer = nn.BatchNorm2d\n",
        "        if groups != 1 or base_width != 64:\n",
        "            raise ValueError(\"BasicBlock only supports groups=1 and base_width=64\")\n",
        "        if dilation > 1:\n",
        "            raise NotImplementedError(\"Dilation > 1 not supported in BasicBlock\")\n",
        "        # Both self.conv1 and self.downsample layers downsample the input when stride != 1\n",
        "        self.conv1 = conv3x3(inplanes, planes, stride)\n",
        "        self.bn1 = norm_layer(planes)\n",
        "        self.relu = nn.ReLU(inplace=True)\n",
        "        self.conv2 = conv3x3(planes, planes)\n",
        "        self.bn2 = norm_layer(planes)\n",
        "        self.downsample = downsample\n",
        "        self.stride = stride\n",
        "\n",
        "    def forward(self, x):\n",
        "        identity = x\n",
        "\n",
        "        out = self.conv1(x)\n",
        "        out = self.bn1(out)\n",
        "        out = self.relu(out)\n",
        "\n",
        "        out = self.conv2(out)\n",
        "        out = self.bn2(out)\n",
        "\n",
        "        if self.downsample is not None:\n",
        "            identity = self.downsample(x)\n",
        "\n",
        "        out += identity\n",
        "        out = self.relu(out)\n",
        "\n",
        "        return out\n",
        "\n",
        "\n",
        "class Bottleneck(nn.Module):\n",
        "    expansion = 4\n",
        "\n",
        "    def __init__(\n",
        "        self,\n",
        "        inplanes,\n",
        "        planes,\n",
        "        stride=1,\n",
        "        downsample=None,\n",
        "        groups=1,\n",
        "        base_width=64,\n",
        "        dilation=1,\n",
        "        norm_layer=None,\n",
        "    ):\n",
        "        super(Bottleneck, self).__init__()\n",
        "        if norm_layer is None:\n",
        "            norm_layer = nn.BatchNorm2d\n",
        "        width = int(planes * (base_width / 64.0)) * groups\n",
        "        # Both self.conv2 and self.downsample layers downsample the input when stride != 1\n",
        "        self.conv1 = conv1x1(inplanes, width)\n",
        "        self.bn1 = norm_layer(width)\n",
        "        self.conv2 = conv3x3(width, width, stride, groups, dilation)\n",
        "        self.bn2 = norm_layer(width)\n",
        "        self.conv3 = conv1x1(width, planes * self.expansion)\n",
        "        self.bn3 = norm_layer(planes * self.expansion)\n",
        "        self.relu = nn.ReLU(inplace=True)\n",
        "        self.downsample = downsample\n",
        "        self.stride = stride\n",
        "\n",
        "    def forward(self, x):\n",
        "        identity = x\n",
        "\n",
        "        out = self.conv1(x)\n",
        "        out = self.bn1(out)\n",
        "        out = self.relu(out)\n",
        "\n",
        "        out = self.conv2(out)\n",
        "        out = self.bn2(out)\n",
        "        out = self.relu(out)\n",
        "\n",
        "        out = self.conv3(out)\n",
        "        out = self.bn3(out)\n",
        "\n",
        "        if self.downsample is not None:\n",
        "            identity = self.downsample(x)\n",
        "\n",
        "        out += identity\n",
        "        out = self.relu(out)\n",
        "\n",
        "        return out\n",
        "\n",
        "\n",
        "class ResNet_dec(nn.Module):\n",
        "    def __init__(\n",
        "        self,\n",
        "        block,\n",
        "        layers,\n",
        "        num_classes=10,\n",
        "        zero_init_residual=False,\n",
        "        groups=1,\n",
        "        width_per_group=64,\n",
        "        replace_stride_with_dilation=None,\n",
        "        norm_layer=None,\n",
        "    ):\n",
        "        super(ResNet_dec, self).__init__()\n",
        "        if norm_layer is None:\n",
        "            norm_layer = nn.BatchNorm2d\n",
        "        self._norm_layer = norm_layer\n",
        "\n",
        "        self.inplanes = 64\n",
        "        self.dilation = 1\n",
        "        if replace_stride_with_dilation is None:\n",
        "            # each element in the tuple indicates if we should replace\n",
        "            # the 2x2 stride with a dilated convolution instead\n",
        "            replace_stride_with_dilation = [False, False, False]\n",
        "        if len(replace_stride_with_dilation) != 3:\n",
        "            raise ValueError(\n",
        "                \"replace_stride_with_dilation should be None \"\n",
        "                \"or a 3-element tuple, got {}\".format(replace_stride_with_dilation)\n",
        "            )\n",
        "        self.groups = groups\n",
        "        self.base_width = width_per_group\n",
        "\n",
        "        # CIFAR10: kernel_size 7 -> 3, stride 2 -> 1, padding 3->1\n",
        "        self.enc_conv1 = nn.Conv2d(\n",
        "            3, self.inplanes, kernel_size=3, stride=1, padding=1, bias=False\n",
        "        )\n",
        "        # END\n",
        "\n",
        "        self.enc_bn1 = norm_layer(self.inplanes)\n",
        "        self.relu = nn.ReLU(inplace=True)\n",
        "        self.enc_maxpool = nn.MaxPool2d(kernel_size=3, stride=2, padding=1)\n",
        "        self.enc_layer1 = self._make_layer(block, 64, layers[0])\n",
        "        self.layer2 = self._make_layer(\n",
        "            block, 128, layers[1], stride=2, dilate=replace_stride_with_dilation[0]\n",
        "        )\n",
        "        self.layer3 = self._make_layer(\n",
        "            block, 256, layers[2], stride=2, dilate=replace_stride_with_dilation[1]\n",
        "        )\n",
        "        self.layer4 = self._make_layer(\n",
        "            block, 512, layers[3], stride=2, dilate=replace_stride_with_dilation[2]\n",
        "        )\n",
        "        self.avgpool = nn.AdaptiveAvgPool2d((1, 1))\n",
        "        self.fc = nn.Linear(512 * block.expansion, num_classes)\n",
        "\n",
        "        for m in self.modules():\n",
        "            if isinstance(m, nn.Conv2d):\n",
        "                nn.init.kaiming_normal_(m.weight, mode=\"fan_out\", nonlinearity=\"relu\")\n",
        "            elif isinstance(m, (nn.BatchNorm2d, nn.GroupNorm)):\n",
        "                nn.init.constant_(m.weight, 1)\n",
        "                nn.init.constant_(m.bias, 0)\n",
        "\n",
        "        # Zero-initialize the last BN in each residual branch,\n",
        "        # so that the residual branch starts with zeros, and each residual block behaves like an identity.\n",
        "        # This improves the model by 0.2~0.3% according to https://arxiv.org/abs/1706.02677\n",
        "        if zero_init_residual:\n",
        "            for m in self.modules():\n",
        "                if isinstance(m, Bottleneck):\n",
        "                    nn.init.constant_(m.bn3.weight, 0)\n",
        "                elif isinstance(m, BasicBlock):\n",
        "                    nn.init.constant_(m.bn2.weight, 0)\n",
        "\n",
        "    def _make_layer(self, block, planes, blocks, stride=1, dilate=False):\n",
        "        norm_layer = self._norm_layer\n",
        "        downsample = None\n",
        "        previous_dilation = self.dilation\n",
        "        if dilate:\n",
        "            self.dilation *= stride\n",
        "            stride = 1\n",
        "        if stride != 1 or self.inplanes != planes * block.expansion:\n",
        "            downsample = nn.Sequential(\n",
        "                conv1x1(self.inplanes, planes * block.expansion, stride),\n",
        "                norm_layer(planes * block.expansion),\n",
        "            )\n",
        "\n",
        "        layers = []\n",
        "        layers.append(\n",
        "            block(\n",
        "                self.inplanes,\n",
        "                planes,\n",
        "                stride,\n",
        "                downsample,\n",
        "                self.groups,\n",
        "                self.base_width,\n",
        "                previous_dilation,\n",
        "                norm_layer,\n",
        "            )\n",
        "        )\n",
        "        self.inplanes = planes * block.expansion\n",
        "        for _ in range(1, blocks):\n",
        "            layers.append(\n",
        "                block(\n",
        "                    self.inplanes,\n",
        "                    planes,\n",
        "                    groups=self.groups,\n",
        "                    base_width=self.base_width,\n",
        "                    dilation=self.dilation,\n",
        "                    norm_layer=norm_layer,\n",
        "                )\n",
        "            )\n",
        "\n",
        "        return nn.Sequential(*layers)\n",
        "\n",
        "    def forward(self, x):\n",
        "        x = self.enc_conv1(x)\n",
        "        x = self.enc_bn1(x)\n",
        "        x = self.relu(x)\n",
        "        x = self.enc_maxpool(x)\n",
        "\n",
        "        x = self.enc_layer1(x)\n",
        "        x = self.layer2(x)\n",
        "        x = self.layer3(x)\n",
        "        x = self.layer4(x)\n",
        "\n",
        "        x = self.avgpool(x)\n",
        "        x = x.reshape(x.size(0), -1)\n",
        "        x = self.fc(x)\n",
        "\n",
        "        return x\n",
        "\n",
        "    def partial_eval(self, x):\n",
        "        x = self.enc_conv1(x)\n",
        "        x = self.enc_bn1(x)\n",
        "        x = self.relu(x)\n",
        "        x = self.enc_maxpool(x)\n",
        "\n",
        "        x = self.enc_layer1(x)\n",
        "        return x\n",
        "\n",
        "def _resnet_dec(arch, block, layers, pretrained, progress, device, **kwargs):\n",
        "    model = ResNet_dec(block, layers, **kwargs)\n",
        "    if pretrained:\n",
        "        #script_dir = os.path.dirname(__file__)\n",
        "        state_dict = torch.load(\n",
        "            \"./state_dicts/\" + arch + \".pt\", map_location=device\n",
        "        )\n",
        "        model.load_state_dict(state_dict,strict=False)\n",
        "    return model\n",
        "\n",
        "\n",
        "def resnet18_dec(pretrained=False, progress=True, device=\"cpu\", **kwargs):\n",
        "    \"\"\"Constructs a ResNet-18 model.\n",
        "    Args:\n",
        "        pretrained (bool): If True, returns a model pre-trained on ImageNet\n",
        "        progress (bool): If True, displays a progress bar of the download to stderr\n",
        "    \"\"\"\n",
        "    return _resnet_dec(\n",
        "        \"resnet18\", BasicBlock, [2, 2, 2, 2], pretrained, progress, device, **kwargs\n",
        "    )\n",
        "\n",
        "\n",
        "def resnet34_dec(pretrained=False, progress=True, device=\"cpu\", **kwargs):\n",
        "    \"\"\"Constructs a ResNet-34 model.\n",
        "    Args:\n",
        "        pretrained (bool): If True, returns a model pre-trained on ImageNet\n",
        "        progress (bool): If True, displays a progress bar of the download to stderr\n",
        "    \"\"\"\n",
        "    return _resnet_dec(\n",
        "        \"resnet34\", BasicBlock, [3, 4, 6, 3], pretrained, progress, device, **kwargs\n",
        "    )\n",
        "\n",
        "\n",
        "def resnet50_dec(pretrained=False, progress=True, device=\"cpu\", **kwargs):\n",
        "    \"\"\"Constructs a ResNet-50 model.\n",
        "    Args:\n",
        "        pretrained (bool): If True, returns a model pre-trained on ImageNet\n",
        "        progress (bool): If True, displays a progress bar of the download to stderr\n",
        "    \"\"\"\n",
        "    return _resnet_dec(\n",
        "        \"resnet50\", Bottleneck, [3, 4, 6, 3], pretrained, progress, device, **kwargs\n",
        "    )\n",
        "\n",
        "\n",
        "\n",
        "\n",
        "def construct_decrypt_net(k):\n",
        "    net_decrypt = resnet18_dec()\n",
        "\n",
        "    # freeze anything after layer1\n",
        "    net_decrypt.layer2.requires_grad_(False)\n",
        "    net_decrypt.layer3.requires_grad_(False)\n",
        "    net_decrypt.layer4.requires_grad_(False)\n",
        "    net_decrypt.fc.requires_grad_(False)\n",
        "\n",
        "    # unfreeze last k layers\n",
        "    counter = 0\n",
        "    for name, param in net_decrypt.named_parameters():\n",
        "        counter+=1\n",
        "\n",
        "    #counter/=2\n",
        "    c = 0\n",
        "\n",
        "    state_dict_ = copy.deepcopy(net.state_dict())\n",
        "    #print(len(state_dict_.keys()))\n",
        "    #print(state_dict_.keys()[0])\n",
        "    for name, param in net_decrypt.named_parameters():\n",
        "        #bias and weight\n",
        "        if k==0:\n",
        "          pass\n",
        "        elif c>=counter-int(k*1.5+1):\n",
        "            param.requires_grad = True\n",
        "            state_dict_.pop(name)\n",
        "        c+=1\n",
        "    #print(len(state_dict_.keys()))\n",
        "    net_decrypt.to(device)\n",
        "\n",
        "    #PATH = './Res18.pth'\n",
        "    net_decrypt.load_state_dict(state_dict_, strict=False)\n",
        "    return net_decrypt\n"
      ],
      "metadata": {
        "id": "ObE6lzoxcvOd"
      },
      "execution_count": 9,
      "outputs": []
    },
    {
      "cell_type": "code",
      "source": [],
      "metadata": {
        "id": "V_ZOYkjXlWo6"
      },
      "execution_count": null,
      "outputs": []
    },
    {
      "cell_type": "code",
      "source": [],
      "metadata": {
        "id": "QD71pgXxdi6_"
      },
      "execution_count": null,
      "outputs": []
    },
    {
      "cell_type": "markdown",
      "source": [
        "train the top layers"
      ],
      "metadata": {
        "id": "QVSIJpfZBNxu"
      }
    },
    {
      "cell_type": "code",
      "source": [],
      "metadata": {
        "id": "4eaJS2r18IRp"
      },
      "execution_count": null,
      "outputs": []
    },
    {
      "cell_type": "code",
      "source": [
        "\n",
        "cosine_similarity = []\n",
        "mse_ = []\n",
        "test_acc= []\n",
        "#cosine_similarity = cosine_similarity\n",
        "#mse_ = mse_\n",
        "for iteration in range(20):\n",
        "    net_decrypt = construct_decrypt_net(iteration)\n",
        "\n",
        "    criterion = nn.CrossEntropyLoss()\n",
        "    optimizer = optim.SGD(net_decrypt.parameters(), lr=0.01, momentum=0.9)\n",
        "    for epoch in range(30):  # loop over the dataset multiple times\n",
        "\n",
        "        running_loss = 0.0\n",
        "        for i, data in enumerate(trainloader, 0):\n",
        "            # get the inputs; data is a list of [inputs, labels]\n",
        "            inputs, labels = data\n",
        "            inputs, labels = inputs.cuda(), labels.cuda()\n",
        "            # zero the parameter gradients\n",
        "            optimizer.zero_grad()\n",
        "\n",
        "            # forward + backward + optimize\n",
        "            outputs = net_decrypt(inputs)\n",
        "            loss = criterion(outputs, labels)\n",
        "            loss.backward()\n",
        "            optimizer.step()\n",
        "\n",
        "            # print statistics\n",
        "            running_loss += loss.item()\n",
        "\n",
        "            '''\n",
        "            if i % 1000 == 999:    # print every 2000 mini-batches\n",
        "                print(f'[{epoch + 1}, {i + 1:5d}] loss: {running_loss / 1000:.3f}')\n",
        "                running_loss = 0.0\n",
        "            '''\n",
        "        #print(f'[{epoch + 1}, {i + 1:5d}] loss: {running_loss / (i+1):.3f}')\n",
        "        running_loss = 0.0\n",
        "        correct = 0\n",
        "        total = 0\n",
        "\n",
        "    print('Finished Training')\n",
        "\n",
        "    corr = []\n",
        "    MSE_loss = []\n",
        "    # since we're not training, we don't need to calculate the gradients for our outputs\n",
        "    cos = torch.nn.CosineSimilarity(dim=0).to(device)\n",
        "    mse_metric = nn.MSELoss().to(device)\n",
        "\n",
        "    correct=0\n",
        "    total=0\n",
        "    with torch.no_grad():\n",
        "        for data in testloader:\n",
        "            images, labels = data\n",
        "            images, labels = images.cuda(), labels.cuda()\n",
        "            '''\n",
        "            # calculate outputs by running images through the network\n",
        "            intermediate = net.partial_eval(images)\n",
        "            print(intermediate.shape)\n",
        "            sh = images[0,:,:,:].cpu().numpy()\n",
        "            sh = sh/2+0.5\n",
        "            plt.imshow(np.transpose(sh, (1,2,0)))\n",
        "            plt.show()\n",
        "            plt.imshow(intermediate[0,1,:,:].cpu().numpy())\n",
        "            break\n",
        "            outputs = net_decrypt.partial_out(intermediate)\n",
        "            '''\n",
        "\n",
        "            # calculate outputs by running images through the network\n",
        "            outputs = net_decrypt(images)\n",
        "            # the class with the highest energy is what we choose as prediction\n",
        "            _, predicted = torch.max(outputs.data, 1)\n",
        "            total += labels.size(0)\n",
        "            correct += (predicted == labels).sum().item()\n",
        "\n",
        "            ori_inter = net.partial_eval(images)\n",
        "            decrypt_inter = net_decrypt.partial_eval(images)\n",
        "            corr.append(cos(torch.flatten(ori_inter),torch.flatten(decrypt_inter)))\n",
        "            MSE_loss.append(mse_metric(torch.flatten(ori_inter),torch.flatten(decrypt_inter)).item())\n",
        "\n",
        "\n",
        "        cosine_similarity.append((sum(corr)/len(corr)).cpu().numpy())\n",
        "        print(\"cosine similarity for split at \"+str(iteration)+\": \"+str(cosine_similarity[-1]))\n",
        "        mse_.append((sum(MSE_loss)/len(corr)))\n",
        "        test_acc.append(correct/total)\n",
        "        print(\"test accuracy for split at \"+str(iteration)+\": \"+str(test_acc[-1]))\n",
        "\n"
      ],
      "metadata": {
        "colab": {
          "base_uri": "https://localhost:8080/",
          "height": 1000
        },
        "id": "2Y3wYuqEmIEr",
        "outputId": "bbed11ce-40a7-4adb-8455-937cfbdb1b43"
      },
      "execution_count": null,
      "outputs": [
        {
          "output_type": "stream",
          "name": "stdout",
          "text": [
            "Finished Training\n",
            "cosine similarity for split at 0: 0.7271675\n",
            "test accuracy for split at 0: 0.8427\n",
            "Finished Training\n",
            "cosine similarity for split at 1: 0.7489721\n",
            "test accuracy for split at 1: 0.8401\n",
            "Finished Training\n",
            "cosine similarity for split at 2: 0.77731943\n",
            "test accuracy for split at 2: 0.8404\n",
            "Finished Training\n",
            "cosine similarity for split at 3: 0.80481464\n",
            "test accuracy for split at 3: 0.8442\n",
            "Finished Training\n",
            "cosine similarity for split at 4: 0.7955231\n",
            "test accuracy for split at 4: 0.8476\n",
            "Finished Training\n",
            "cosine similarity for split at 5: 0.82179105\n",
            "test accuracy for split at 5: 0.8449\n",
            "Finished Training\n",
            "cosine similarity for split at 6: 0.8222437\n",
            "test accuracy for split at 6: 0.8341\n",
            "Finished Training\n",
            "cosine similarity for split at 7: 0.77624387\n",
            "test accuracy for split at 7: 0.8377\n",
            "Finished Training\n",
            "cosine similarity for split at 8: 0.80970955\n",
            "test accuracy for split at 8: 0.846\n",
            "Finished Training\n",
            "cosine similarity for split at 9: 0.8227098\n",
            "test accuracy for split at 9: 0.8419\n",
            "Finished Training\n",
            "cosine similarity for split at 10: 0.81974787\n",
            "test accuracy for split at 10: 0.84\n",
            "Finished Training\n",
            "cosine similarity for split at 11: 0.82414687\n",
            "test accuracy for split at 11: 0.8411\n"
          ]
        },
        {
          "output_type": "error",
          "ename": "KeyboardInterrupt",
          "evalue": "ignored",
          "traceback": [
            "\u001b[0;31m---------------------------------------------------------------------------\u001b[0m",
            "\u001b[0;31mKeyboardInterrupt\u001b[0m                         Traceback (most recent call last)",
            "\u001b[0;32m<ipython-input-78-9b17cf7e687b>\u001b[0m in \u001b[0;36m<cell line: 6>\u001b[0;34m()\u001b[0m\n\u001b[1;32m     20\u001b[0m \u001b[0;34m\u001b[0m\u001b[0m\n\u001b[1;32m     21\u001b[0m             \u001b[0;31m# forward + backward + optimize\u001b[0m\u001b[0;34m\u001b[0m\u001b[0;34m\u001b[0m\u001b[0m\n\u001b[0;32m---> 22\u001b[0;31m             \u001b[0moutputs\u001b[0m \u001b[0;34m=\u001b[0m \u001b[0mnet_decrypt\u001b[0m\u001b[0;34m(\u001b[0m\u001b[0minputs\u001b[0m\u001b[0;34m)\u001b[0m\u001b[0;34m\u001b[0m\u001b[0;34m\u001b[0m\u001b[0m\n\u001b[0m\u001b[1;32m     23\u001b[0m             \u001b[0mloss\u001b[0m \u001b[0;34m=\u001b[0m \u001b[0mcriterion\u001b[0m\u001b[0;34m(\u001b[0m\u001b[0moutputs\u001b[0m\u001b[0;34m,\u001b[0m \u001b[0mlabels\u001b[0m\u001b[0;34m)\u001b[0m\u001b[0;34m\u001b[0m\u001b[0;34m\u001b[0m\u001b[0m\n\u001b[1;32m     24\u001b[0m             \u001b[0mloss\u001b[0m\u001b[0;34m.\u001b[0m\u001b[0mbackward\u001b[0m\u001b[0;34m(\u001b[0m\u001b[0;34m)\u001b[0m\u001b[0;34m\u001b[0m\u001b[0;34m\u001b[0m\u001b[0m\n",
            "\u001b[0;32m/usr/local/lib/python3.10/dist-packages/torch/nn/modules/module.py\u001b[0m in \u001b[0;36m_call_impl\u001b[0;34m(self, *args, **kwargs)\u001b[0m\n\u001b[1;32m   1499\u001b[0m                 \u001b[0;32mor\u001b[0m \u001b[0m_global_backward_pre_hooks\u001b[0m \u001b[0;32mor\u001b[0m \u001b[0m_global_backward_hooks\u001b[0m\u001b[0;34m\u001b[0m\u001b[0;34m\u001b[0m\u001b[0m\n\u001b[1;32m   1500\u001b[0m                 or _global_forward_hooks or _global_forward_pre_hooks):\n\u001b[0;32m-> 1501\u001b[0;31m             \u001b[0;32mreturn\u001b[0m \u001b[0mforward_call\u001b[0m\u001b[0;34m(\u001b[0m\u001b[0;34m*\u001b[0m\u001b[0margs\u001b[0m\u001b[0;34m,\u001b[0m \u001b[0;34m**\u001b[0m\u001b[0mkwargs\u001b[0m\u001b[0;34m)\u001b[0m\u001b[0;34m\u001b[0m\u001b[0;34m\u001b[0m\u001b[0m\n\u001b[0m\u001b[1;32m   1502\u001b[0m         \u001b[0;31m# Do not call functions when jit is used\u001b[0m\u001b[0;34m\u001b[0m\u001b[0;34m\u001b[0m\u001b[0m\n\u001b[1;32m   1503\u001b[0m         \u001b[0mfull_backward_hooks\u001b[0m\u001b[0;34m,\u001b[0m \u001b[0mnon_full_backward_hooks\u001b[0m \u001b[0;34m=\u001b[0m \u001b[0;34m[\u001b[0m\u001b[0;34m]\u001b[0m\u001b[0;34m,\u001b[0m \u001b[0;34m[\u001b[0m\u001b[0;34m]\u001b[0m\u001b[0;34m\u001b[0m\u001b[0;34m\u001b[0m\u001b[0m\n",
            "\u001b[0;32m<ipython-input-69-47042de22d2c>\u001b[0m in \u001b[0;36mforward\u001b[0;34m(self, x)\u001b[0m\n\u001b[1;32m     95\u001b[0m     \u001b[0;32mdef\u001b[0m \u001b[0mforward\u001b[0m\u001b[0;34m(\u001b[0m\u001b[0mself\u001b[0m\u001b[0;34m,\u001b[0m \u001b[0mx\u001b[0m\u001b[0;34m)\u001b[0m\u001b[0;34m:\u001b[0m\u001b[0;34m\u001b[0m\u001b[0;34m\u001b[0m\u001b[0m\n\u001b[1;32m     96\u001b[0m         \u001b[0mout\u001b[0m \u001b[0;34m=\u001b[0m \u001b[0mF\u001b[0m\u001b[0;34m.\u001b[0m\u001b[0mrelu\u001b[0m\u001b[0;34m(\u001b[0m\u001b[0mself\u001b[0m\u001b[0;34m.\u001b[0m\u001b[0menc2\u001b[0m\u001b[0;34m(\u001b[0m\u001b[0mself\u001b[0m\u001b[0;34m.\u001b[0m\u001b[0menc1\u001b[0m\u001b[0;34m(\u001b[0m\u001b[0mx\u001b[0m\u001b[0;34m)\u001b[0m\u001b[0;34m)\u001b[0m\u001b[0;34m)\u001b[0m\u001b[0;34m\u001b[0m\u001b[0;34m\u001b[0m\u001b[0m\n\u001b[0;32m---> 97\u001b[0;31m         \u001b[0mout\u001b[0m \u001b[0;34m=\u001b[0m \u001b[0mself\u001b[0m\u001b[0;34m.\u001b[0m\u001b[0menc_layer1\u001b[0m\u001b[0;34m(\u001b[0m\u001b[0mout\u001b[0m\u001b[0;34m)\u001b[0m\u001b[0;34m\u001b[0m\u001b[0;34m\u001b[0m\u001b[0m\n\u001b[0m\u001b[1;32m     98\u001b[0m         \u001b[0mout\u001b[0m \u001b[0;34m=\u001b[0m \u001b[0mself\u001b[0m\u001b[0;34m.\u001b[0m\u001b[0mlayer2\u001b[0m\u001b[0;34m(\u001b[0m\u001b[0mout\u001b[0m\u001b[0;34m)\u001b[0m\u001b[0;34m\u001b[0m\u001b[0;34m\u001b[0m\u001b[0m\n\u001b[1;32m     99\u001b[0m         \u001b[0mout\u001b[0m \u001b[0;34m=\u001b[0m \u001b[0mself\u001b[0m\u001b[0;34m.\u001b[0m\u001b[0mlayer3\u001b[0m\u001b[0;34m(\u001b[0m\u001b[0mout\u001b[0m\u001b[0;34m)\u001b[0m\u001b[0;34m\u001b[0m\u001b[0;34m\u001b[0m\u001b[0m\n",
            "\u001b[0;32m/usr/local/lib/python3.10/dist-packages/torch/nn/modules/module.py\u001b[0m in \u001b[0;36m_call_impl\u001b[0;34m(self, *args, **kwargs)\u001b[0m\n\u001b[1;32m   1499\u001b[0m                 \u001b[0;32mor\u001b[0m \u001b[0m_global_backward_pre_hooks\u001b[0m \u001b[0;32mor\u001b[0m \u001b[0m_global_backward_hooks\u001b[0m\u001b[0;34m\u001b[0m\u001b[0;34m\u001b[0m\u001b[0m\n\u001b[1;32m   1500\u001b[0m                 or _global_forward_hooks or _global_forward_pre_hooks):\n\u001b[0;32m-> 1501\u001b[0;31m             \u001b[0;32mreturn\u001b[0m \u001b[0mforward_call\u001b[0m\u001b[0;34m(\u001b[0m\u001b[0;34m*\u001b[0m\u001b[0margs\u001b[0m\u001b[0;34m,\u001b[0m \u001b[0;34m**\u001b[0m\u001b[0mkwargs\u001b[0m\u001b[0;34m)\u001b[0m\u001b[0;34m\u001b[0m\u001b[0;34m\u001b[0m\u001b[0m\n\u001b[0m\u001b[1;32m   1502\u001b[0m         \u001b[0;31m# Do not call functions when jit is used\u001b[0m\u001b[0;34m\u001b[0m\u001b[0;34m\u001b[0m\u001b[0m\n\u001b[1;32m   1503\u001b[0m         \u001b[0mfull_backward_hooks\u001b[0m\u001b[0;34m,\u001b[0m \u001b[0mnon_full_backward_hooks\u001b[0m \u001b[0;34m=\u001b[0m \u001b[0;34m[\u001b[0m\u001b[0;34m]\u001b[0m\u001b[0;34m,\u001b[0m \u001b[0;34m[\u001b[0m\u001b[0;34m]\u001b[0m\u001b[0;34m\u001b[0m\u001b[0;34m\u001b[0m\u001b[0m\n",
            "\u001b[0;32m/usr/local/lib/python3.10/dist-packages/torch/nn/modules/container.py\u001b[0m in \u001b[0;36mforward\u001b[0;34m(self, input)\u001b[0m\n\u001b[1;32m    215\u001b[0m     \u001b[0;32mdef\u001b[0m \u001b[0mforward\u001b[0m\u001b[0;34m(\u001b[0m\u001b[0mself\u001b[0m\u001b[0;34m,\u001b[0m \u001b[0minput\u001b[0m\u001b[0;34m)\u001b[0m\u001b[0;34m:\u001b[0m\u001b[0;34m\u001b[0m\u001b[0;34m\u001b[0m\u001b[0m\n\u001b[1;32m    216\u001b[0m         \u001b[0;32mfor\u001b[0m \u001b[0mmodule\u001b[0m \u001b[0;32min\u001b[0m \u001b[0mself\u001b[0m\u001b[0;34m:\u001b[0m\u001b[0;34m\u001b[0m\u001b[0;34m\u001b[0m\u001b[0m\n\u001b[0;32m--> 217\u001b[0;31m             \u001b[0minput\u001b[0m \u001b[0;34m=\u001b[0m \u001b[0mmodule\u001b[0m\u001b[0;34m(\u001b[0m\u001b[0minput\u001b[0m\u001b[0;34m)\u001b[0m\u001b[0;34m\u001b[0m\u001b[0;34m\u001b[0m\u001b[0m\n\u001b[0m\u001b[1;32m    218\u001b[0m         \u001b[0;32mreturn\u001b[0m \u001b[0minput\u001b[0m\u001b[0;34m\u001b[0m\u001b[0;34m\u001b[0m\u001b[0m\n\u001b[1;32m    219\u001b[0m \u001b[0;34m\u001b[0m\u001b[0m\n",
            "\u001b[0;32m/usr/local/lib/python3.10/dist-packages/torch/nn/modules/module.py\u001b[0m in \u001b[0;36m_call_impl\u001b[0;34m(self, *args, **kwargs)\u001b[0m\n\u001b[1;32m   1499\u001b[0m                 \u001b[0;32mor\u001b[0m \u001b[0m_global_backward_pre_hooks\u001b[0m \u001b[0;32mor\u001b[0m \u001b[0m_global_backward_hooks\u001b[0m\u001b[0;34m\u001b[0m\u001b[0;34m\u001b[0m\u001b[0m\n\u001b[1;32m   1500\u001b[0m                 or _global_forward_hooks or _global_forward_pre_hooks):\n\u001b[0;32m-> 1501\u001b[0;31m             \u001b[0;32mreturn\u001b[0m \u001b[0mforward_call\u001b[0m\u001b[0;34m(\u001b[0m\u001b[0;34m*\u001b[0m\u001b[0margs\u001b[0m\u001b[0;34m,\u001b[0m \u001b[0;34m**\u001b[0m\u001b[0mkwargs\u001b[0m\u001b[0;34m)\u001b[0m\u001b[0;34m\u001b[0m\u001b[0;34m\u001b[0m\u001b[0m\n\u001b[0m\u001b[1;32m   1502\u001b[0m         \u001b[0;31m# Do not call functions when jit is used\u001b[0m\u001b[0;34m\u001b[0m\u001b[0;34m\u001b[0m\u001b[0m\n\u001b[1;32m   1503\u001b[0m         \u001b[0mfull_backward_hooks\u001b[0m\u001b[0;34m,\u001b[0m \u001b[0mnon_full_backward_hooks\u001b[0m \u001b[0;34m=\u001b[0m \u001b[0;34m[\u001b[0m\u001b[0;34m]\u001b[0m\u001b[0;34m,\u001b[0m \u001b[0;34m[\u001b[0m\u001b[0;34m]\u001b[0m\u001b[0;34m\u001b[0m\u001b[0;34m\u001b[0m\u001b[0m\n",
            "\u001b[0;32m<ipython-input-69-47042de22d2c>\u001b[0m in \u001b[0;36mforward\u001b[0;34m(self, x)\u001b[0m\n\u001b[1;32m     33\u001b[0m \u001b[0;34m\u001b[0m\u001b[0m\n\u001b[1;32m     34\u001b[0m     \u001b[0;32mdef\u001b[0m \u001b[0mforward\u001b[0m\u001b[0;34m(\u001b[0m\u001b[0mself\u001b[0m\u001b[0;34m,\u001b[0m \u001b[0mx\u001b[0m\u001b[0;34m)\u001b[0m\u001b[0;34m:\u001b[0m\u001b[0;34m\u001b[0m\u001b[0;34m\u001b[0m\u001b[0m\n\u001b[0;32m---> 35\u001b[0;31m         \u001b[0mout\u001b[0m \u001b[0;34m=\u001b[0m \u001b[0mF\u001b[0m\u001b[0;34m.\u001b[0m\u001b[0mrelu\u001b[0m\u001b[0;34m(\u001b[0m\u001b[0mself\u001b[0m\u001b[0;34m.\u001b[0m\u001b[0mbn1\u001b[0m\u001b[0;34m(\u001b[0m\u001b[0mself\u001b[0m\u001b[0;34m.\u001b[0m\u001b[0mconv1\u001b[0m\u001b[0;34m(\u001b[0m\u001b[0mx\u001b[0m\u001b[0;34m)\u001b[0m\u001b[0;34m)\u001b[0m\u001b[0;34m)\u001b[0m\u001b[0;34m\u001b[0m\u001b[0;34m\u001b[0m\u001b[0m\n\u001b[0m\u001b[1;32m     36\u001b[0m         \u001b[0mout\u001b[0m \u001b[0;34m=\u001b[0m \u001b[0mself\u001b[0m\u001b[0;34m.\u001b[0m\u001b[0mbn2\u001b[0m\u001b[0;34m(\u001b[0m\u001b[0mself\u001b[0m\u001b[0;34m.\u001b[0m\u001b[0mconv2\u001b[0m\u001b[0;34m(\u001b[0m\u001b[0mout\u001b[0m\u001b[0;34m)\u001b[0m\u001b[0;34m)\u001b[0m\u001b[0;34m\u001b[0m\u001b[0;34m\u001b[0m\u001b[0m\n\u001b[1;32m     37\u001b[0m         \u001b[0mout\u001b[0m \u001b[0;34m+=\u001b[0m \u001b[0mself\u001b[0m\u001b[0;34m.\u001b[0m\u001b[0mshortcut\u001b[0m\u001b[0;34m(\u001b[0m\u001b[0mx\u001b[0m\u001b[0;34m)\u001b[0m\u001b[0;34m\u001b[0m\u001b[0;34m\u001b[0m\u001b[0m\n",
            "\u001b[0;32m/usr/local/lib/python3.10/dist-packages/torch/nn/modules/module.py\u001b[0m in \u001b[0;36m_call_impl\u001b[0;34m(self, *args, **kwargs)\u001b[0m\n\u001b[1;32m   1499\u001b[0m                 \u001b[0;32mor\u001b[0m \u001b[0m_global_backward_pre_hooks\u001b[0m \u001b[0;32mor\u001b[0m \u001b[0m_global_backward_hooks\u001b[0m\u001b[0;34m\u001b[0m\u001b[0;34m\u001b[0m\u001b[0m\n\u001b[1;32m   1500\u001b[0m                 or _global_forward_hooks or _global_forward_pre_hooks):\n\u001b[0;32m-> 1501\u001b[0;31m             \u001b[0;32mreturn\u001b[0m \u001b[0mforward_call\u001b[0m\u001b[0;34m(\u001b[0m\u001b[0;34m*\u001b[0m\u001b[0margs\u001b[0m\u001b[0;34m,\u001b[0m \u001b[0;34m**\u001b[0m\u001b[0mkwargs\u001b[0m\u001b[0;34m)\u001b[0m\u001b[0;34m\u001b[0m\u001b[0;34m\u001b[0m\u001b[0m\n\u001b[0m\u001b[1;32m   1502\u001b[0m         \u001b[0;31m# Do not call functions when jit is used\u001b[0m\u001b[0;34m\u001b[0m\u001b[0;34m\u001b[0m\u001b[0m\n\u001b[1;32m   1503\u001b[0m         \u001b[0mfull_backward_hooks\u001b[0m\u001b[0;34m,\u001b[0m \u001b[0mnon_full_backward_hooks\u001b[0m \u001b[0;34m=\u001b[0m \u001b[0;34m[\u001b[0m\u001b[0;34m]\u001b[0m\u001b[0;34m,\u001b[0m \u001b[0;34m[\u001b[0m\u001b[0;34m]\u001b[0m\u001b[0;34m\u001b[0m\u001b[0;34m\u001b[0m\u001b[0m\n",
            "\u001b[0;32m/usr/local/lib/python3.10/dist-packages/torch/nn/modules/batchnorm.py\u001b[0m in \u001b[0;36mforward\u001b[0;34m(self, input)\u001b[0m\n\u001b[1;32m    169\u001b[0m         \u001b[0mused\u001b[0m \u001b[0;32mfor\u001b[0m \u001b[0mnormalization\u001b[0m \u001b[0;34m(\u001b[0m\u001b[0mi\u001b[0m\u001b[0;34m.\u001b[0m\u001b[0me\u001b[0m\u001b[0;34m.\u001b[0m \u001b[0;32min\u001b[0m \u001b[0meval\u001b[0m \u001b[0mmode\u001b[0m \u001b[0mwhen\u001b[0m \u001b[0mbuffers\u001b[0m \u001b[0mare\u001b[0m \u001b[0;32mnot\u001b[0m \u001b[0;32mNone\u001b[0m\u001b[0;34m)\u001b[0m\u001b[0;34m.\u001b[0m\u001b[0;34m\u001b[0m\u001b[0;34m\u001b[0m\u001b[0m\n\u001b[1;32m    170\u001b[0m         \"\"\"\n\u001b[0;32m--> 171\u001b[0;31m         return F.batch_norm(\n\u001b[0m\u001b[1;32m    172\u001b[0m             \u001b[0minput\u001b[0m\u001b[0;34m,\u001b[0m\u001b[0;34m\u001b[0m\u001b[0;34m\u001b[0m\u001b[0m\n\u001b[1;32m    173\u001b[0m             \u001b[0;31m# If buffers are not to be tracked, ensure that they won't be updated\u001b[0m\u001b[0;34m\u001b[0m\u001b[0;34m\u001b[0m\u001b[0m\n",
            "\u001b[0;32m/usr/local/lib/python3.10/dist-packages/torch/nn/functional.py\u001b[0m in \u001b[0;36mbatch_norm\u001b[0;34m(input, running_mean, running_var, weight, bias, training, momentum, eps)\u001b[0m\n\u001b[1;32m   2448\u001b[0m         \u001b[0m_verify_batch_size\u001b[0m\u001b[0;34m(\u001b[0m\u001b[0minput\u001b[0m\u001b[0;34m.\u001b[0m\u001b[0msize\u001b[0m\u001b[0;34m(\u001b[0m\u001b[0;34m)\u001b[0m\u001b[0;34m)\u001b[0m\u001b[0;34m\u001b[0m\u001b[0;34m\u001b[0m\u001b[0m\n\u001b[1;32m   2449\u001b[0m \u001b[0;34m\u001b[0m\u001b[0m\n\u001b[0;32m-> 2450\u001b[0;31m     return torch.batch_norm(\n\u001b[0m\u001b[1;32m   2451\u001b[0m         \u001b[0minput\u001b[0m\u001b[0;34m,\u001b[0m \u001b[0mweight\u001b[0m\u001b[0;34m,\u001b[0m \u001b[0mbias\u001b[0m\u001b[0;34m,\u001b[0m \u001b[0mrunning_mean\u001b[0m\u001b[0;34m,\u001b[0m \u001b[0mrunning_var\u001b[0m\u001b[0;34m,\u001b[0m \u001b[0mtraining\u001b[0m\u001b[0;34m,\u001b[0m \u001b[0mmomentum\u001b[0m\u001b[0;34m,\u001b[0m \u001b[0meps\u001b[0m\u001b[0;34m,\u001b[0m \u001b[0mtorch\u001b[0m\u001b[0;34m.\u001b[0m\u001b[0mbackends\u001b[0m\u001b[0;34m.\u001b[0m\u001b[0mcudnn\u001b[0m\u001b[0;34m.\u001b[0m\u001b[0menabled\u001b[0m\u001b[0;34m\u001b[0m\u001b[0;34m\u001b[0m\u001b[0m\n\u001b[1;32m   2452\u001b[0m     )\n",
            "\u001b[0;31mKeyboardInterrupt\u001b[0m: "
          ]
        }
      ]
    },
    {
      "cell_type": "code",
      "source": [
        "print(mse_)\n",
        "print(cosine_similarity)\n",
        "print(test_acc)"
      ],
      "metadata": {
        "colab": {
          "base_uri": "https://localhost:8080/"
        },
        "id": "RvoyS3ydz-yY",
        "outputId": "19567d23-b98c-4795-eb37-1246ca8781d8"
      },
      "execution_count": null,
      "outputs": [
        {
          "output_type": "stream",
          "name": "stdout",
          "text": [
            "[1.3757064555780576, 1.2174986303804782, 1.3829171276701906, 1.4613700945156451, 1.451703663070362, 1.5190820728247159, 1.5603145802744662, 1.445120233316391, 1.5245656990014707, 1.6183720293898172, 1.5911245951637292, 1.583609141861669]\n",
            "[array(0.7271675, dtype=float32), array(0.7489721, dtype=float32), array(0.77731943, dtype=float32), array(0.80481464, dtype=float32), array(0.7955231, dtype=float32), array(0.82179105, dtype=float32), array(0.8222437, dtype=float32), array(0.77624387, dtype=float32), array(0.80970955, dtype=float32), array(0.8227098, dtype=float32), array(0.81974787, dtype=float32), array(0.82414687, dtype=float32)]\n",
            "[0.8427, 0.8401, 0.8404, 0.8442, 0.8476, 0.8449, 0.8341, 0.8377, 0.846, 0.8419, 0.84, 0.8411]\n"
          ]
        }
      ]
    },
    {
      "cell_type": "code",
      "source": [
        "#net_decrypt = construct_decrypt_net(3)\n",
        "\n",
        "for name, param in net_decrypt.named_parameters():\n",
        "    print(name+'\\t\\t\\t'+str(param.requires_grad))\n"
      ],
      "metadata": {
        "colab": {
          "base_uri": "https://localhost:8080/"
        },
        "id": "r9Ze78t__hws",
        "outputId": "cf428f30-708a-443b-b3e2-8bf4855f6ca3"
      },
      "execution_count": null,
      "outputs": [
        {
          "output_type": "stream",
          "name": "stdout",
          "text": [
            "enc_conv1.weight\t\t\tTrue\n",
            "enc_bn1.weight\t\t\tTrue\n",
            "enc_bn1.bias\t\t\tTrue\n",
            "enc_layer1.0.conv1.weight\t\t\tTrue\n",
            "enc_layer1.0.bn1.weight\t\t\tTrue\n",
            "enc_layer1.0.bn1.bias\t\t\tTrue\n",
            "enc_layer1.0.conv2.weight\t\t\tTrue\n",
            "enc_layer1.0.bn2.weight\t\t\tTrue\n",
            "enc_layer1.0.bn2.bias\t\t\tTrue\n",
            "enc_layer1.1.conv1.weight\t\t\tTrue\n",
            "enc_layer1.1.bn1.weight\t\t\tTrue\n",
            "enc_layer1.1.bn1.bias\t\t\tTrue\n",
            "enc_layer1.1.conv2.weight\t\t\tTrue\n",
            "enc_layer1.1.bn2.weight\t\t\tTrue\n",
            "enc_layer1.1.bn2.bias\t\t\tTrue\n",
            "layer2.0.conv1.weight\t\t\tFalse\n",
            "layer2.0.bn1.weight\t\t\tFalse\n",
            "layer2.0.bn1.bias\t\t\tFalse\n",
            "layer2.0.conv2.weight\t\t\tFalse\n",
            "layer2.0.bn2.weight\t\t\tFalse\n",
            "layer2.0.bn2.bias\t\t\tFalse\n",
            "layer2.0.downsample.0.weight\t\t\tFalse\n",
            "layer2.0.downsample.1.weight\t\t\tFalse\n",
            "layer2.0.downsample.1.bias\t\t\tFalse\n",
            "layer2.1.conv1.weight\t\t\tFalse\n",
            "layer2.1.bn1.weight\t\t\tFalse\n",
            "layer2.1.bn1.bias\t\t\tFalse\n",
            "layer2.1.conv2.weight\t\t\tFalse\n",
            "layer2.1.bn2.weight\t\t\tFalse\n",
            "layer2.1.bn2.bias\t\t\tFalse\n",
            "layer3.0.conv1.weight\t\t\tFalse\n",
            "layer3.0.bn1.weight\t\t\tFalse\n",
            "layer3.0.bn1.bias\t\t\tFalse\n",
            "layer3.0.conv2.weight\t\t\tFalse\n",
            "layer3.0.bn2.weight\t\t\tFalse\n",
            "layer3.0.bn2.bias\t\t\tFalse\n",
            "layer3.0.downsample.0.weight\t\t\tFalse\n",
            "layer3.0.downsample.1.weight\t\t\tFalse\n",
            "layer3.0.downsample.1.bias\t\t\tFalse\n",
            "layer3.1.conv1.weight\t\t\tFalse\n",
            "layer3.1.bn1.weight\t\t\tFalse\n",
            "layer3.1.bn1.bias\t\t\tFalse\n",
            "layer3.1.conv2.weight\t\t\tFalse\n",
            "layer3.1.bn2.weight\t\t\tFalse\n",
            "layer3.1.bn2.bias\t\t\tFalse\n",
            "layer4.0.conv1.weight\t\t\tFalse\n",
            "layer4.0.bn1.weight\t\t\tFalse\n",
            "layer4.0.bn1.bias\t\t\tFalse\n",
            "layer4.0.conv2.weight\t\t\tFalse\n",
            "layer4.0.bn2.weight\t\t\tFalse\n",
            "layer4.0.bn2.bias\t\t\tFalse\n",
            "layer4.0.downsample.0.weight\t\t\tFalse\n",
            "layer4.0.downsample.1.weight\t\t\tFalse\n",
            "layer4.0.downsample.1.bias\t\t\tFalse\n",
            "layer4.1.conv1.weight\t\t\tFalse\n",
            "layer4.1.bn1.weight\t\t\tFalse\n",
            "layer4.1.bn1.bias\t\t\tFalse\n",
            "layer4.1.conv2.weight\t\t\tTrue\n",
            "layer4.1.bn2.weight\t\t\tTrue\n",
            "layer4.1.bn2.bias\t\t\tTrue\n",
            "fc.weight\t\t\tTrue\n",
            "fc.bias\t\t\tTrue\n"
          ]
        }
      ]
    },
    {
      "cell_type": "code",
      "source": [
        "x = [i for i in range(len(mse_))]\n",
        "xi = [i for i in range(len(mse_))]\n",
        "plt.plot(x, mse_)\n",
        "plt.xticks(x, xi)\n",
        "plt.xlabel(\"cut before k layer, 0 is 2-party\")\n",
        "plt.title('MSE')\n",
        "plt.show()\n",
        "plt.plot(x, cosine_similarity)\n",
        "plt.xticks(x, xi)\n",
        "plt.xlabel(\"cut before k layer, 0 is 2-party\")\n",
        "plt.title(\"Cosine Similarirty\")\n",
        "plt.show()"
      ],
      "metadata": {
        "colab": {
          "base_uri": "https://localhost:8080/",
          "height": 927
        },
        "id": "9ikB8cKBfFu9",
        "outputId": "dcadb924-15d2-4f17-9ccc-4bcbcc07609e"
      },
      "execution_count": null,
      "outputs": [
        {
          "output_type": "display_data",
          "data": {
            "text/plain": [
              "<Figure size 640x480 with 1 Axes>"
            ],
            "image/png": "[encoded data removed]"
          },
          "metadata": {}
        },
        {
          "output_type": "display_data",
          "data": {
            "text/plain": [
              "<Figure size 640x480 with 1 Axes>"
            ],
            "image/png": "[encoded data removed]"
          },
          "metadata": {}
        }
      ]
    },
    {
      "cell_type": "code",
      "source": [
        "import copy"
      ],
      "metadata": {
        "id": "LZNGgXqsUOKa"
      },
      "execution_count": 11,
      "outputs": []
    },
    {
      "cell_type": "code",
      "source": [
        "# test cosine similarity for initialization\n",
        "cosine_similarity = []\n",
        "mse_ = []\n",
        "test_acc= []\n",
        "#cosine_similarity = cosine_similarity\n",
        "#mse_ = mse_\n",
        "for iteration in range(20):\n",
        "    net_decrypt = construct_decrypt_net(iteration)\n",
        "\n",
        "    corr = []\n",
        "    MSE_loss = []\n",
        "    # since we're not training, we don't need to calculate the gradients for our outputs\n",
        "    cos = torch.nn.CosineSimilarity(dim=0).to(device)\n",
        "    mse_metric = nn.MSELoss().to(device)\n",
        "\n",
        "    correct=0\n",
        "    total=0\n",
        "    with torch.no_grad():\n",
        "        for data in testloader:\n",
        "            images, labels = data\n",
        "            images, labels = images.cuda(), labels.cuda()\n",
        "            '''\n",
        "            # calculate outputs by running images through the network\n",
        "            intermediate = net.partial_eval(images)\n",
        "            print(intermediate.shape)\n",
        "            sh = images[0,:,:,:].cpu().numpy()\n",
        "            sh = sh/2+0.5\n",
        "            plt.imshow(np.transpose(sh, (1,2,0)))\n",
        "            plt.show()\n",
        "            plt.imshow(intermediate[0,1,:,:].cpu().numpy())\n",
        "            break\n",
        "            outputs = net_decrypt.partial_out(intermediate)\n",
        "            '''\n",
        "\n",
        "            # calculate outputs by running images through the network\n",
        "            outputs = net_decrypt(images)\n",
        "            # the class with the highest energy is what we choose as prediction\n",
        "            _, predicted = torch.max(outputs.data, 1)\n",
        "            total += labels.size(0)\n",
        "            correct += (predicted == labels).sum().item()\n",
        "\n",
        "            ori_inter = net.partial_eval(images)\n",
        "            decrypt_inter = net_decrypt.partial_eval(images)\n",
        "            corr.append(cos(torch.flatten(ori_inter),torch.flatten(decrypt_inter)))\n",
        "            MSE_loss.append(mse_metric(torch.flatten(ori_inter),torch.flatten(decrypt_inter)).item())\n",
        "\n",
        "\n",
        "        cosine_similarity.append((sum(corr)/len(corr)).cpu().numpy())\n",
        "        print(\"cosine similarity for split at \"+str(iteration)+\": \"+str(cosine_similarity[-1]))\n",
        "        mse_.append((sum(MSE_loss)/len(corr)))\n",
        "        test_acc.append(correct/total)\n",
        "        print(\"test accuracy for split at \"+str(iteration)+\": \"+str(test_acc[-1]))"
      ],
      "metadata": {
        "colab": {
          "base_uri": "https://localhost:8080/"
        },
        "id": "2DRE8Q-B0SsY",
        "outputId": "b81f09e0-0792-4cd9-a266-d2f6eae02a2f"
      },
      "execution_count": 12,
      "outputs": [
        {
          "output_type": "stream",
          "name": "stdout",
          "text": [
            "cosine similarity for split at 0: 0.4018918\n",
            "test accuracy for split at 0: 0.1325\n",
            "cosine similarity for split at 1: 0.4065703\n",
            "test accuracy for split at 1: 0.0842\n",
            "cosine similarity for split at 2: 0.39633247\n",
            "test accuracy for split at 2: 0.1068\n",
            "cosine similarity for split at 3: 0.39982727\n",
            "test accuracy for split at 3: 0.0932\n",
            "cosine similarity for split at 4: 0.41540208\n",
            "test accuracy for split at 4: 0.0937\n",
            "cosine similarity for split at 5: 0.40441594\n",
            "test accuracy for split at 5: 0.1048\n",
            "cosine similarity for split at 6: 0.40602952\n",
            "test accuracy for split at 6: 0.0993\n",
            "cosine similarity for split at 7: 0.39524743\n",
            "test accuracy for split at 7: 0.0974\n",
            "cosine similarity for split at 8: 0.3839416\n",
            "test accuracy for split at 8: 0.1155\n",
            "cosine similarity for split at 9: 0.40197134\n",
            "test accuracy for split at 9: 0.1045\n",
            "cosine similarity for split at 10: 0.40591618\n",
            "test accuracy for split at 10: 0.1011\n",
            "cosine similarity for split at 11: 0.3910638\n",
            "test accuracy for split at 11: 0.0979\n",
            "cosine similarity for split at 12: 0.39888656\n",
            "test accuracy for split at 12: 0.1079\n",
            "cosine similarity for split at 13: 0.40424916\n",
            "test accuracy for split at 13: 0.1018\n",
            "cosine similarity for split at 14: 0.38969344\n",
            "test accuracy for split at 14: 0.0992\n",
            "cosine similarity for split at 15: 0.3996645\n",
            "test accuracy for split at 15: 0.089\n",
            "cosine similarity for split at 16: 0.40397596\n",
            "test accuracy for split at 16: 0.0975\n",
            "cosine similarity for split at 17: 0.4029727\n",
            "test accuracy for split at 17: 0.0926\n",
            "cosine similarity for split at 18: 0.39772817\n",
            "test accuracy for split at 18: 0.1031\n",
            "cosine similarity for split at 19: 0.38943037\n",
            "test accuracy for split at 19: 0.114\n"
          ]
        }
      ]
    },
    {
      "cell_type": "code",
      "source": [
        "#untrained initialization\n",
        "x = [i for i in range(len(mse_))]\n",
        "xi = [i for i in range(len(mse_))]\n",
        "plt.plot(x, mse_)\n",
        "plt.xticks(x, xi)\n",
        "plt.xlabel(\"cut before k layer, 0 is 2-party\")\n",
        "plt.title('MSE')\n",
        "plt.show()\n",
        "plt.plot(x, cosine_similarity)\n",
        "plt.xticks(x, xi)\n",
        "plt.xlabel(\"cut before k layer, 0 is 2-party\")\n",
        "plt.title(\"Cosine Similarirty\")\n",
        "plt.show()\n",
        "plt.plot(x, test_acc)\n",
        "plt.xticks(x, xi)\n",
        "plt.xlabel(\"cut before k layer, 0 is 2-party\")\n",
        "plt.title(\"accuracy\")\n",
        "plt.show()"
      ],
      "metadata": {
        "colab": {
          "base_uri": "https://localhost:8080/",
          "height": 1000
        },
        "id": "cYXhW2by0iAo",
        "outputId": "a44dfb45-90bc-4061-ecdb-77e11b0c3bba"
      },
      "execution_count": 13,
      "outputs": [
        {
          "output_type": "display_data",
          "data": {
            "text/plain": [
              "<Figure size 640x480 with 1 Axes>"
            ],
            "image/png": "[encoded data removed]"
          },
          "metadata": {}
        },
        {
          "output_type": "display_data",
          "data": {
            "text/plain": [
              "<Figure size 640x480 with 1 Axes>"
            ],
            "image/png": "[encoded data removed]"
          },
          "metadata": {}
        },
        {
          "output_type": "display_data",
          "data": {
            "text/plain": [
              "<Figure size 640x480 with 1 Axes>"
            ],
            "image/png": "[encoded data removed]"
          },
          "metadata": {}
        }
      ]
    },
    {
      "cell_type": "code",
      "source": [],
      "metadata": {
        "id": "lO75GBWB0h9Z"
      },
      "execution_count": null,
      "outputs": []
    },
    {
      "cell_type": "code",
      "source": [],
      "metadata": {
        "id": "KWBdR6nc0h63"
      },
      "execution_count": null,
      "outputs": []
    },
    {
      "cell_type": "code",
      "source": [],
      "metadata": {
        "id": "v_rETj4r5v6w"
      },
      "execution_count": null,
      "outputs": []
    },
    {
      "cell_type": "code",
      "source": [
        "\n",
        "#cosine_similarity = cosine_similarity\n",
        "#mse_ = mse_\n",
        "\n",
        "net_decrypt = construct_decrypt_net(0)\n",
        "\n",
        "criterion = nn.CrossEntropyLoss()\n",
        "optimizer = optim.SGD(net_decrypt.parameters(), lr=0.01, momentum=0.9)\n",
        "# close to original 120\n",
        "for epoch in range(100):  # loop over the dataset multiple times\n",
        "\n",
        "    running_loss = 0.0\n",
        "    for i, data in enumerate(trainloader, 0):\n",
        "        # get the inputs; data is a list of [inputs, labels]\n",
        "        inputs, labels = data\n",
        "        inputs, labels = inputs.cuda(), labels.cuda()\n",
        "        # zero the parameter gradients\n",
        "        optimizer.zero_grad()\n",
        "\n",
        "        # forward + backward + optimize\n",
        "        outputs = net_decrypt(inputs)\n",
        "        loss = criterion(outputs, labels)\n",
        "        loss.backward()\n",
        "        optimizer.step()\n",
        "\n",
        "        # print statistics\n",
        "        running_loss += loss.item()\n",
        "\n",
        "        '''\n",
        "        if i % 1000 == 999:    # print every 2000 mini-batches\n",
        "            print(f'[{epoch + 1}, {i + 1:5d}] loss: {running_loss / 1000:.3f}')\n",
        "            running_loss = 0.0\n",
        "        '''\n",
        "    #print(f'[{epoch + 1}, {i + 1:5d}] loss: {running_loss / (i+1):.3f}')\n",
        "    running_loss = 0.0\n",
        "    correct = 0\n",
        "    total = 0\n",
        "\n",
        "print('Finished Training')\n",
        "\n",
        "corr = []\n",
        "MSE_loss = []\n",
        "# since we're not training, we don't need to calculate the gradients for our outputs\n",
        "cos = torch.nn.CosineSimilarity(dim=0).to(device)\n",
        "mse_metric = nn.MSELoss().to(device)\n",
        "\n",
        "correct=0\n",
        "total=0\n",
        "with torch.no_grad():\n",
        "    for data in testloader:\n",
        "        images, labels = data\n",
        "        images, labels = images.cuda(), labels.cuda()\n",
        "        '''\n",
        "        # calculate outputs by running images through the network\n",
        "        intermediate = net.partial_eval(images)\n",
        "        print(intermediate.shape)\n",
        "        sh = images[0,:,:,:].cpu().numpy()\n",
        "        sh = sh/2+0.5\n",
        "        plt.imshow(np.transpose(sh, (1,2,0)))\n",
        "        plt.show()\n",
        "        plt.imshow(intermediate[0,1,:,:].cpu().numpy())\n",
        "        break\n",
        "        outputs = net_decrypt.partial_out(intermediate)\n",
        "        '''\n",
        "\n",
        "        # calculate outputs by running images through the network\n",
        "        outputs = net_decrypt(images)\n",
        "        # the class with the highest energy is what we choose as prediction\n",
        "        _, predicted = torch.max(outputs.data, 1)\n",
        "        total += labels.size(0)\n",
        "        correct += (predicted == labels).sum().item()\n",
        "\n",
        "        ori_inter = net.partial_eval(images)\n",
        "        decrypt_inter = net_decrypt.partial_eval(images)\n",
        "        corr.append(cos(torch.flatten(ori_inter),torch.flatten(decrypt_inter)))\n",
        "        MSE_loss.append(mse_metric(torch.flatten(ori_inter),torch.flatten(decrypt_inter)).item())\n",
        "\n",
        "\n",
        "\n"
      ],
      "metadata": {
        "id": "Sazp86BU5v25",
        "colab": {
          "base_uri": "https://localhost:8080/"
        },
        "outputId": "05214921-76bc-4574-e904-47c2f71aa798"
      },
      "execution_count": null,
      "outputs": [
        {
          "output_type": "stream",
          "name": "stdout",
          "text": [
            "Finished Training\n"
          ]
        }
      ]
    },
    {
      "cell_type": "code",
      "source": [
        "print(sum(corr)/len(corr))\n",
        "print(sum(MSE_loss)/len(MSE_loss))"
      ],
      "metadata": {
        "colab": {
          "base_uri": "https://localhost:8080/"
        },
        "id": "ZahCJ67Zz4hu",
        "outputId": "ad97a7d3-89fb-41e3-efe6-8044216afdbd"
      },
      "execution_count": null,
      "outputs": [
        {
          "output_type": "stream",
          "name": "stdout",
          "text": [
            "tensor(0.8156, device='cuda:0')\n",
            "2.430614376068115\n"
          ]
        }
      ]
    },
    {
      "cell_type": "code",
      "source": [
        "#PATH = './ResNet_decrypt_3.pth'\n",
        "PATH = './ResNet_decrypt_v3.pth'\n",
        "\n",
        "torch.save(net_decrypt.state_dict(), PATH)"
      ],
      "metadata": {
        "id": "DtJEZ2NnDMrl"
      },
      "execution_count": null,
      "outputs": []
    },
    {
      "cell_type": "code",
      "source": [
        "PATH = './ResNet_decrypt_v3.pth'\n",
        "\n",
        "net_decrypt.load_state_dict(torch.load(PATH))"
      ],
      "metadata": {
        "id": "R7Eh4Go4DOPA",
        "colab": {
          "base_uri": "https://localhost:8080/"
        },
        "outputId": "c425cd83-678a-4e4b-cf4d-07c82f92aa23"
      },
      "execution_count": null,
      "outputs": [
        {
          "output_type": "execute_result",
          "data": {
            "text/plain": [
              "<All keys matched successfully>"
            ]
          },
          "metadata": {},
          "execution_count": 67
        }
      ]
    },
    {
      "cell_type": "code",
      "source": [
        "PATH2 = './Res18_v2.pth'\n",
        "#projection_weight_path = './LeNet_pr.pth'\n",
        "net = ResNet18(img_channels=3, num_classes=10).to(device)\n",
        "net.load_state_dict(torch.load(PATH2))"
      ],
      "metadata": {
        "id": "pyabgXz10c5K"
      },
      "execution_count": null,
      "outputs": []
    },
    {
      "cell_type": "code",
      "source": [
        "correct = 0\n",
        "total = 0\n",
        "# since we're not training, we don't need to calculate the gradients for our outputs\n",
        "with torch.no_grad():\n",
        "    for data in testloader:\n",
        "        images, labels = data\n",
        "        images, labels = images.cuda(), labels.cuda()\n",
        "        '''\n",
        "        # calculate outputs by running images through the network\n",
        "        intermediate = net.partial_eval(images)\n",
        "        print(intermediate.shape)\n",
        "        sh = images[0,:,:,:].cpu().numpy()\n",
        "        sh = sh/2+0.5\n",
        "        plt.imshow(np.transpose(sh, (1,2,0)))\n",
        "        plt.show()\n",
        "        plt.imshow(intermediate[0,1,:,:].cpu().numpy())\n",
        "        break\n",
        "        outputs = net_decrypt.partial_out(intermediate)\n",
        "        '''\n",
        "        outputs = net_decrypt(images)\n",
        "        # the class with the highest energy is what we choose as prediction\n",
        "        _, predicted = torch.max(outputs.data, 1)\n",
        "        total += labels.size(0)\n",
        "        correct += (predicted == labels).sum().item()\n",
        "\n",
        "print('Accuracy of the network on the test images:'+str(correct / total))"
      ],
      "metadata": {
        "colab": {
          "base_uri": "https://localhost:8080/"
        },
        "id": "KOpyODQYCRlv",
        "outputId": "afc494cd-c4d5-4092-a0b9-c23640603a2f"
      },
      "execution_count": null,
      "outputs": [
        {
          "output_type": "stream",
          "name": "stdout",
          "text": [
            "Accuracy of the network on the test images:0.8999\n"
          ]
        }
      ]
    },
    {
      "cell_type": "code",
      "source": [],
      "metadata": {
        "id": "JdAF8VIbBVe_"
      },
      "execution_count": null,
      "outputs": []
    },
    {
      "cell_type": "code",
      "source": [
        "\n",
        "#!cp ./ResNet_decrypt_3.pth /content/drive/MyDrive/ResNet_decrypt_3.pth\n",
        "\n",
        "!cp ./ResNet_decrypt_v3.pth /content/drive/MyDrive/ResNet_decrypt_v3.pth"
      ],
      "metadata": {
        "id": "CLefTy5un5JW"
      },
      "execution_count": null,
      "outputs": []
    },
    {
      "cell_type": "markdown",
      "source": [
        "what we know: bad performance when using CNN to simulate 1 layer of ResNet -> unknown architecture could cause significant defifference\n",
        "\n",
        "on the other hand, if we know the architecture, we can somewhat recover the weights and use decoder to recover the image\n",
        "\n",
        "conclusion1 of now: there exists \"SOME\" encoder-decoder group that can recover the image if the server knows the training dataset\n",
        "\n",
        "conclusion2 of now: model similarity is inverse propotional to the computation on the client side: more computation on the client side -> less similar the intermediate image is.\n",
        "\n",
        "when server only computes layer 2 and 3, cosine similarity is 0.4, whereas when server computes layer 2-4, cosine similarity is 0.86.\n",
        "\n",
        "As of now, decoder designed based on encoder (transpose conv) does not generate accurate decoding image.\n",
        "\n",
        "TODO:\n",
        "1. is there a p-tolerant decoder that recovers images with at least p cosine similarity?\n",
        "2. try client-server split at each layer and measure the cosine similarity of intermediate latent feature -> expect to see a decay\n",
        "3. is there a boundary on how good a decoder can be?\n"
      ],
      "metadata": {
        "id": "pkPSHyTC7S6C"
      }
    },
    {
      "cell_type": "markdown",
      "source": [
        "### decoder"
      ],
      "metadata": {
        "id": "StFNJtL0AAkb"
      }
    },
    {
      "cell_type": "code",
      "source": [
        "class BasicBlock(nn.Module):\n",
        "    expansion = 1\n",
        "\n",
        "    def __init__(\n",
        "        self,\n",
        "        inplanes,\n",
        "        planes,\n",
        "        stride=1,\n",
        "        downsample=None,\n",
        "        groups=1,\n",
        "        base_width=64,\n",
        "        dilation=1,\n",
        "        norm_layer=None,\n",
        "    ):\n",
        "        super(BasicBlock, self).__init__()\n",
        "        if norm_layer is None:\n",
        "            norm_layer = nn.BatchNorm2d\n",
        "        if groups != 1 or base_width != 64:\n",
        "            raise ValueError(\"BasicBlock only supports groups=1 and base_width=64\")\n",
        "        if dilation > 1:\n",
        "            raise NotImplementedError(\"Dilation > 1 not supported in BasicBlock\")\n",
        "        # Both self.conv1 and self.downsample layers downsample the input when stride != 1\n",
        "        self.conv1 = conv3x3(inplanes, planes, stride)\n",
        "        self.bn1 = norm_layer(planes)\n",
        "        self.relu = nn.ReLU(inplace=True)\n",
        "        self.conv2 = conv3x3(planes, planes)\n",
        "        self.bn2 = norm_layer(planes)\n",
        "        self.downsample = downsample\n",
        "        self.stride = stride\n",
        "\n",
        "    def forward(self, x):\n",
        "        identity = x\n",
        "\n",
        "        out = self.conv1(x)\n",
        "        out = self.bn1(out)\n",
        "        out = self.relu(out)\n",
        "\n",
        "        out = self.conv2(out)\n",
        "        out = self.bn2(out)\n",
        "\n",
        "        if self.downsample is not None:\n",
        "            identity = self.downsample(x)\n",
        "\n",
        "        out += identity\n",
        "        out = self.relu(out)\n",
        "\n",
        "        return out\n",
        "\n",
        "\n",
        "class Bottleneck(nn.Module):\n",
        "    expansion = 4\n",
        "\n",
        "    def __init__(\n",
        "        self,\n",
        "        inplanes,\n",
        "        planes,\n",
        "        stride=1,\n",
        "        downsample=None,\n",
        "        groups=1,\n",
        "        base_width=64,\n",
        "        dilation=1,\n",
        "        norm_layer=None,\n",
        "    ):\n",
        "        super(Bottleneck, self).__init__()\n",
        "        if norm_layer is None:\n",
        "            norm_layer = nn.BatchNorm2d\n",
        "        width = int(planes * (base_width / 64.0)) * groups\n",
        "        # Both self.conv2 and self.downsample layers downsample the input when stride != 1\n",
        "        self.conv1 = conv1x1(inplanes, width)\n",
        "        self.bn1 = norm_layer(width)\n",
        "        self.conv2 = conv3x3(width, width, stride, groups, dilation)\n",
        "        self.bn2 = norm_layer(width)\n",
        "        self.conv3 = conv1x1(width, planes * self.expansion)\n",
        "        self.bn3 = norm_layer(planes * self.expansion)\n",
        "        self.relu = nn.ReLU(inplace=True)\n",
        "        self.downsample = downsample\n",
        "        self.stride = stride\n",
        "\n",
        "    def forward(self, x):\n",
        "        identity = x\n",
        "\n",
        "        out = self.conv1(x)\n",
        "        out = self.bn1(out)\n",
        "        out = self.relu(out)\n",
        "\n",
        "        out = self.conv2(out)\n",
        "        out = self.bn2(out)\n",
        "        out = self.relu(out)\n",
        "\n",
        "        out = self.conv3(out)\n",
        "        out = self.bn3(out)\n",
        "\n",
        "        if self.downsample is not None:\n",
        "            identity = self.downsample(x)\n",
        "\n",
        "        out += identity\n",
        "        out = self.relu(out)\n",
        "\n",
        "        return out\n",
        "\n",
        "\n",
        "class ResNet_decoder(nn.Module):\n",
        "    def __init__(self, block, num_blocks, num_classes=10):\n",
        "        super(ResNet_decoder, self).__init__()\n",
        "        self.inplanes = 64\n",
        "\n",
        "        replace_stride_with_dilation = [False, False, False]\n",
        "        layers = num_blocks\n",
        "        self._norm_layer = nn.BatchNorm2d\n",
        "        self.dilation = 1\n",
        "        self.groups = 1\n",
        "        self.base_width = 64\n",
        "\n",
        "        # CIFAR10: kernel_size 7 -> 3, stride 2 -> 1, padding 3->1\n",
        "        self.enc_conv1 = nn.Conv2d(\n",
        "            3, self.inplanes, kernel_size=3, stride=1, padding=1, bias=False\n",
        "        )\n",
        "        # END\n",
        "\n",
        "        self.enc_bn1 = nn.BatchNorm2d(self.inplanes)\n",
        "        self.relu = nn.ReLU(inplace=True)\n",
        "        self.enc_maxpool = nn.MaxPool2d(kernel_size=3, stride=2, padding=1)\n",
        "        self.enc_layer1 = self._make_layer(block, 64, layers[0],1)\n",
        "        '''\n",
        "        self.layer2 = self._make_layer(\n",
        "            block, 128, layers[1], stride=2, dilate=replace_stride_with_dilation[0]\n",
        "        )\n",
        "        self.layer3 = self._make_layer(\n",
        "            block, 256, layers[2], stride=2, dilate=replace_stride_with_dilation[1]\n",
        "        )\n",
        "        self.layer4 = self._make_layer(\n",
        "            block, 512, layers[3], stride=2, dilate=replace_stride_with_dilation[2]\n",
        "        )\n",
        "        self.avgpool = nn.AdaptiveAvgPool2d((1, 1))\n",
        "        self.fc = nn.Linear(512 * block.expansion, num_classes)\n",
        "        '''\n",
        "\n",
        "        self.dec_layer1=self._make_layer(block, 64, layers[0],1)\n",
        "        self.upsample = nn.Upsample(scale_factor=2)\n",
        "        self.dec2 = nn.BatchNorm2d(64)\n",
        "        self.dec1 = nn.Conv2d(64, 3, kernel_size=3,\n",
        "                               stride=1, padding=1, bias=False)\n",
        "\n",
        "    def _make_layer(self, block, planes, blocks, stride=1, dilate=False):\n",
        "        norm_layer = self._norm_layer\n",
        "        downsample = None\n",
        "        previous_dilation = self.dilation\n",
        "        if dilate:\n",
        "            self.dilation *= stride\n",
        "            stride = 1\n",
        "        if stride != 1 or self.inplanes != planes * block.expansion:\n",
        "            downsample = nn.Sequential(\n",
        "                conv1x1(self.inplanes, planes * block.expansion, stride),\n",
        "                norm_layer(planes * block.expansion),\n",
        "            )\n",
        "\n",
        "        layers = []\n",
        "        layers.append(\n",
        "            block(\n",
        "                self.inplanes,\n",
        "                planes,\n",
        "                stride,\n",
        "                downsample,\n",
        "                self.groups,\n",
        "                self.base_width,\n",
        "                previous_dilation,\n",
        "                norm_layer,\n",
        "            )\n",
        "        )\n",
        "        self.inplanes = planes * block.expansion\n",
        "        for _ in range(1, blocks):\n",
        "            layers.append(\n",
        "                block(\n",
        "                    self.inplanes,\n",
        "                    planes,\n",
        "                    groups=self.groups,\n",
        "                    base_width=self.base_width,\n",
        "                    dilation=self.dilation,\n",
        "                    norm_layer=norm_layer,\n",
        "                )\n",
        "            )\n",
        "\n",
        "        return nn.Sequential(*layers)\n",
        "\n",
        "    def forward(self, x):\n",
        "        x = self.enc_conv1(x)\n",
        "        x = self.enc_bn1(x)\n",
        "        x = self.relu(x)\n",
        "        x = self.enc_maxpool(x)\n",
        "\n",
        "        x = self.enc_layer1(x)\n",
        "        '''\n",
        "        out = self.layer2(out)\n",
        "        out = self.layer3(out)\n",
        "        out = self.layer4(out)\n",
        "        out = F.avg_pool2d(out, 4)\n",
        "        out = out.view(out.size(0), -1)\n",
        "        out = self.linear(out)\n",
        "        return out\n",
        "        '''\n",
        "        out = self.dec_layer1(x)\n",
        "        out = self.upsample(out)\n",
        "        out = self.relu(out)\n",
        "        #out = F.relu(self.dec1(self.dec2(x)))\n",
        "        out = self.dec2(out)\n",
        "        out = self.dec1(out)\n",
        "        return out\n",
        "\n",
        "    def partial_eval(self, x):\n",
        "        out = self.dec_layer1(x)\n",
        "        out = self.upsample(out)\n",
        "        out = self.relu(out)\n",
        "        #out = F.relu(self.dec1(self.dec2(x)))\n",
        "        out = self.dec2(out)\n",
        "        out = self.dec1(out)\n",
        "        return out\n",
        "\n",
        "\n",
        "def ResNet18_decoder():\n",
        "    return ResNet_decoder(BasicBlock, [2, 2, 2, 2])\n",
        "\n",
        "\n",
        "def ResNet34_decoder():\n",
        "    return ResNet_decoder(BasicBlock, [3, 4, 6, 3])\n",
        "\n",
        "net_decoder = ResNet18_decoder()\n",
        "net_decoder.to(device)\n",
        "\n"
      ],
      "metadata": {
        "colab": {
          "base_uri": "https://localhost:8080/"
        },
        "id": "a4qpKKjG_mev",
        "outputId": "2beb0b52-0d48-48f9-cadc-d43f6d64e332"
      },
      "execution_count": null,
      "outputs": [
        {
          "output_type": "execute_result",
          "data": {
            "text/plain": [
              "ResNet_decoder(\n",
              "  (enc_conv1): Conv2d(3, 64, kernel_size=(3, 3), stride=(1, 1), padding=(1, 1), bias=False)\n",
              "  (enc_bn1): BatchNorm2d(64, eps=1e-05, momentum=0.1, affine=True, track_running_stats=True)\n",
              "  (relu): ReLU(inplace=True)\n",
              "  (enc_maxpool): MaxPool2d(kernel_size=3, stride=2, padding=1, dilation=1, ceil_mode=False)\n",
              "  (enc_layer1): Sequential(\n",
              "    (0): BasicBlock(\n",
              "      (conv1): Conv2d(64, 64, kernel_size=(3, 3), stride=(1, 1), padding=(1, 1), bias=False)\n",
              "      (bn1): BatchNorm2d(64, eps=1e-05, momentum=0.1, affine=True, track_running_stats=True)\n",
              "      (relu): ReLU(inplace=True)\n",
              "      (conv2): Conv2d(64, 64, kernel_size=(3, 3), stride=(1, 1), padding=(1, 1), bias=False)\n",
              "      (bn2): BatchNorm2d(64, eps=1e-05, momentum=0.1, affine=True, track_running_stats=True)\n",
              "    )\n",
              "    (1): BasicBlock(\n",
              "      (conv1): Conv2d(64, 64, kernel_size=(3, 3), stride=(1, 1), padding=(1, 1), bias=False)\n",
              "      (bn1): BatchNorm2d(64, eps=1e-05, momentum=0.1, affine=True, track_running_stats=True)\n",
              "      (relu): ReLU(inplace=True)\n",
              "      (conv2): Conv2d(64, 64, kernel_size=(3, 3), stride=(1, 1), padding=(1, 1), bias=False)\n",
              "      (bn2): BatchNorm2d(64, eps=1e-05, momentum=0.1, affine=True, track_running_stats=True)\n",
              "    )\n",
              "  )\n",
              "  (dec_layer1): Sequential(\n",
              "    (0): BasicBlock(\n",
              "      (conv1): Conv2d(64, 64, kernel_size=(3, 3), stride=(1, 1), padding=(1, 1), bias=False)\n",
              "      (bn1): BatchNorm2d(64, eps=1e-05, momentum=0.1, affine=True, track_running_stats=True)\n",
              "      (relu): ReLU(inplace=True)\n",
              "      (conv2): Conv2d(64, 64, kernel_size=(3, 3), stride=(1, 1), padding=(1, 1), bias=False)\n",
              "      (bn2): BatchNorm2d(64, eps=1e-05, momentum=0.1, affine=True, track_running_stats=True)\n",
              "    )\n",
              "    (1): BasicBlock(\n",
              "      (conv1): Conv2d(64, 64, kernel_size=(3, 3), stride=(1, 1), padding=(1, 1), bias=False)\n",
              "      (bn1): BatchNorm2d(64, eps=1e-05, momentum=0.1, affine=True, track_running_stats=True)\n",
              "      (relu): ReLU(inplace=True)\n",
              "      (conv2): Conv2d(64, 64, kernel_size=(3, 3), stride=(1, 1), padding=(1, 1), bias=False)\n",
              "      (bn2): BatchNorm2d(64, eps=1e-05, momentum=0.1, affine=True, track_running_stats=True)\n",
              "    )\n",
              "  )\n",
              "  (upsample): Upsample(scale_factor=2.0, mode='nearest')\n",
              "  (dec2): BatchNorm2d(64, eps=1e-05, momentum=0.1, affine=True, track_running_stats=True)\n",
              "  (dec1): Conv2d(64, 3, kernel_size=(3, 3), stride=(1, 1), padding=(1, 1), bias=False)\n",
              ")"
            ]
          },
          "metadata": {},
          "execution_count": 69
        }
      ]
    },
    {
      "cell_type": "code",
      "source": [
        "'''\n",
        "PATH = './LeNet_decrypt.pth'\n",
        "net_decoder.load_state_dict(torch.load(PATH), strict=False)\n",
        "criterion = nn.MSELoss()\n",
        "optimizer = optim.SGD(net_decoder.parameters(), lr=0.001, momentum=0.9)\n",
        "'''\n",
        "\n",
        "# freeze anything before decoder\n",
        "net_decoder.enc_conv1.requires_grad_(False)\n",
        "net_decoder.enc_bn1.requires_grad_(False)\n",
        "net_decoder.enc_layer1.requires_grad_(False)\n"
      ],
      "metadata": {
        "colab": {
          "base_uri": "https://localhost:8080/"
        },
        "id": "8KB_yDUrFKIA",
        "outputId": "a217cd9d-b1f1-4e40-ede8-0b9ffd555c21"
      },
      "execution_count": null,
      "outputs": [
        {
          "output_type": "execute_result",
          "data": {
            "text/plain": [
              "Sequential(\n",
              "  (0): BasicBlock(\n",
              "    (conv1): Conv2d(64, 64, kernel_size=(3, 3), stride=(1, 1), padding=(1, 1), bias=False)\n",
              "    (bn1): BatchNorm2d(64, eps=1e-05, momentum=0.1, affine=True, track_running_stats=True)\n",
              "    (relu): ReLU(inplace=True)\n",
              "    (conv2): Conv2d(64, 64, kernel_size=(3, 3), stride=(1, 1), padding=(1, 1), bias=False)\n",
              "    (bn2): BatchNorm2d(64, eps=1e-05, momentum=0.1, affine=True, track_running_stats=True)\n",
              "  )\n",
              "  (1): BasicBlock(\n",
              "    (conv1): Conv2d(64, 64, kernel_size=(3, 3), stride=(1, 1), padding=(1, 1), bias=False)\n",
              "    (bn1): BatchNorm2d(64, eps=1e-05, momentum=0.1, affine=True, track_running_stats=True)\n",
              "    (relu): ReLU(inplace=True)\n",
              "    (conv2): Conv2d(64, 64, kernel_size=(3, 3), stride=(1, 1), padding=(1, 1), bias=False)\n",
              "    (bn2): BatchNorm2d(64, eps=1e-05, momentum=0.1, affine=True, track_running_stats=True)\n",
              "  )\n",
              ")"
            ]
          },
          "metadata": {},
          "execution_count": 70
        }
      ]
    },
    {
      "cell_type": "code",
      "source": [
        "for param in net_decoder.parameters():\n",
        "  print(param.requires_grad)"
      ],
      "metadata": {
        "colab": {
          "base_uri": "https://localhost:8080/"
        },
        "id": "T3J7-fgDw7oA",
        "outputId": "50d63c4e-2114-4a33-cee3-e8acbefe413c"
      },
      "execution_count": null,
      "outputs": [
        {
          "output_type": "stream",
          "name": "stdout",
          "text": [
            "False\n",
            "False\n",
            "False\n",
            "False\n",
            "False\n",
            "False\n",
            "False\n",
            "False\n",
            "False\n",
            "False\n",
            "False\n",
            "False\n",
            "False\n",
            "False\n",
            "False\n",
            "True\n",
            "True\n",
            "True\n",
            "True\n",
            "True\n",
            "True\n",
            "True\n",
            "True\n",
            "True\n",
            "True\n",
            "True\n",
            "True\n",
            "True\n",
            "True\n",
            "True\n"
          ]
        }
      ]
    },
    {
      "cell_type": "code",
      "source": [
        "PATH = './ResNet_decrypt_v3.pth'\n",
        "net_decoder.load_state_dict(torch.load(PATH), strict=False)"
      ],
      "metadata": {
        "colab": {
          "base_uri": "https://localhost:8080/"
        },
        "id": "ok-YTWoXxZws",
        "outputId": "084d0a79-5bf3-47ec-8f9d-3f027ea9102e"
      },
      "execution_count": null,
      "outputs": [
        {
          "output_type": "execute_result",
          "data": {
            "text/plain": [
              "_IncompatibleKeys(missing_keys=['dec_layer1.0.conv1.weight', 'dec_layer1.0.bn1.weight', 'dec_layer1.0.bn1.bias', 'dec_layer1.0.bn1.running_mean', 'dec_layer1.0.bn1.running_var', 'dec_layer1.0.conv2.weight', 'dec_layer1.0.bn2.weight', 'dec_layer1.0.bn2.bias', 'dec_layer1.0.bn2.running_mean', 'dec_layer1.0.bn2.running_var', 'dec_layer1.1.conv1.weight', 'dec_layer1.1.bn1.weight', 'dec_layer1.1.bn1.bias', 'dec_layer1.1.bn1.running_mean', 'dec_layer1.1.bn1.running_var', 'dec_layer1.1.conv2.weight', 'dec_layer1.1.bn2.weight', 'dec_layer1.1.bn2.bias', 'dec_layer1.1.bn2.running_mean', 'dec_layer1.1.bn2.running_var', 'dec2.weight', 'dec2.bias', 'dec2.running_mean', 'dec2.running_var', 'dec1.weight'], unexpected_keys=['layer2.0.conv1.weight', 'layer2.0.bn1.weight', 'layer2.0.bn1.bias', 'layer2.0.bn1.running_mean', 'layer2.0.bn1.running_var', 'layer2.0.bn1.num_batches_tracked', 'layer2.0.conv2.weight', 'layer2.0.bn2.weight', 'layer2.0.bn2.bias', 'layer2.0.bn2.running_mean', 'layer2.0.bn2.running_var', 'layer2.0.bn2.num_batches_tracked', 'layer2.0.downsample.0.weight', 'layer2.0.downsample.1.weight', 'layer2.0.downsample.1.bias', 'layer2.0.downsample.1.running_mean', 'layer2.0.downsample.1.running_var', 'layer2.0.downsample.1.num_batches_tracked', 'layer2.1.conv1.weight', 'layer2.1.bn1.weight', 'layer2.1.bn1.bias', 'layer2.1.bn1.running_mean', 'layer2.1.bn1.running_var', 'layer2.1.bn1.num_batches_tracked', 'layer2.1.conv2.weight', 'layer2.1.bn2.weight', 'layer2.1.bn2.bias', 'layer2.1.bn2.running_mean', 'layer2.1.bn2.running_var', 'layer2.1.bn2.num_batches_tracked', 'layer3.0.conv1.weight', 'layer3.0.bn1.weight', 'layer3.0.bn1.bias', 'layer3.0.bn1.running_mean', 'layer3.0.bn1.running_var', 'layer3.0.bn1.num_batches_tracked', 'layer3.0.conv2.weight', 'layer3.0.bn2.weight', 'layer3.0.bn2.bias', 'layer3.0.bn2.running_mean', 'layer3.0.bn2.running_var', 'layer3.0.bn2.num_batches_tracked', 'layer3.0.downsample.0.weight', 'layer3.0.downsample.1.weight', 'layer3.0.downsample.1.bias', 'layer3.0.downsample.1.running_mean', 'layer3.0.downsample.1.running_var', 'layer3.0.downsample.1.num_batches_tracked', 'layer3.1.conv1.weight', 'layer3.1.bn1.weight', 'layer3.1.bn1.bias', 'layer3.1.bn1.running_mean', 'layer3.1.bn1.running_var', 'layer3.1.bn1.num_batches_tracked', 'layer3.1.conv2.weight', 'layer3.1.bn2.weight', 'layer3.1.bn2.bias', 'layer3.1.bn2.running_mean', 'layer3.1.bn2.running_var', 'layer3.1.bn2.num_batches_tracked', 'layer4.0.conv1.weight', 'layer4.0.bn1.weight', 'layer4.0.bn1.bias', 'layer4.0.bn1.running_mean', 'layer4.0.bn1.running_var', 'layer4.0.bn1.num_batches_tracked', 'layer4.0.conv2.weight', 'layer4.0.bn2.weight', 'layer4.0.bn2.bias', 'layer4.0.bn2.running_mean', 'layer4.0.bn2.running_var', 'layer4.0.bn2.num_batches_tracked', 'layer4.0.downsample.0.weight', 'layer4.0.downsample.1.weight', 'layer4.0.downsample.1.bias', 'layer4.0.downsample.1.running_mean', 'layer4.0.downsample.1.running_var', 'layer4.0.downsample.1.num_batches_tracked', 'layer4.1.conv1.weight', 'layer4.1.bn1.weight', 'layer4.1.bn1.bias', 'layer4.1.bn1.running_mean', 'layer4.1.bn1.running_var', 'layer4.1.bn1.num_batches_tracked', 'layer4.1.conv2.weight', 'layer4.1.bn2.weight', 'layer4.1.bn2.bias', 'layer4.1.bn2.running_mean', 'layer4.1.bn2.running_var', 'layer4.1.bn2.num_batches_tracked', 'fc.weight', 'fc.bias'])"
            ]
          },
          "metadata": {},
          "execution_count": 72
        }
      ]
    },
    {
      "cell_type": "code",
      "source": [
        "criterion = nn.MSELoss()\n",
        "optimizer = optim.SGD(net_decoder.parameters(), lr=0.001, momentum=0.9)"
      ],
      "metadata": {
        "id": "tZsYABS1Ishy"
      },
      "execution_count": null,
      "outputs": []
    },
    {
      "cell_type": "code",
      "source": [
        "for epoch in range(50):  # loop over the dataset multiple times\n",
        "\n",
        "    running_loss = 0.0\n",
        "    for i, data in enumerate(trainloader, 0):\n",
        "        # get the inputs; data is a list of [inputs, labels]\n",
        "        inputs, labels = data\n",
        "        inputs, labels = inputs.cuda(), labels.cuda()\n",
        "        # zero the parameter gradients\n",
        "        optimizer.zero_grad()\n",
        "\n",
        "        # forward + backward + optimize\n",
        "        outputs = net_decoder(inputs)\n",
        "        #outputs = net.partial_eval(inputs)\n",
        "        #outputs = net_decoder(outputs)\n",
        "        loss = criterion(outputs, inputs)\n",
        "        loss.backward()\n",
        "        optimizer.step()\n",
        "\n",
        "        # print statistics\n",
        "        running_loss += loss.item()\n",
        "        '''\n",
        "        if i % 1000 == 999:    # print every 2000 mini-batches\n",
        "            print(f'[{epoch + 1}, {i + 1:5d}] loss: {running_loss / 1000:.3f}')\n",
        "            running_loss = 0.0\n",
        "        '''\n",
        "    print(f'[{epoch + 1}, {i + 1:5d}] loss: {running_loss / (i+1):.3f}')\n",
        "    running_loss = 0.0\n",
        "print('Finished Training')"
      ],
      "metadata": {
        "colab": {
          "base_uri": "https://localhost:8080/",
          "height": 758
        },
        "id": "JSLeovdEFEeC",
        "outputId": "cf5bcdb8-ab51-48de-dadd-75bc79a898ca"
      },
      "execution_count": null,
      "outputs": [
        {
          "output_type": "stream",
          "name": "stdout",
          "text": [
            "[1,   196] loss: 0.335\n",
            "[2,   196] loss: 0.167\n",
            "[3,   196] loss: 0.139\n",
            "[4,   196] loss: 0.126\n",
            "[5,   196] loss: 0.117\n",
            "[6,   196] loss: 0.110\n",
            "[7,   196] loss: 0.105\n",
            "[8,   196] loss: 0.101\n",
            "[9,   196] loss: 0.097\n",
            "[10,   196] loss: 0.094\n",
            "[11,   196] loss: 0.091\n",
            "[12,   196] loss: 0.089\n",
            "[13,   196] loss: 0.087\n",
            "[14,   196] loss: 0.085\n",
            "[15,   196] loss: 0.083\n",
            "[16,   196] loss: 0.082\n",
            "[17,   196] loss: 0.080\n",
            "[18,   196] loss: 0.079\n",
            "[19,   196] loss: 0.078\n",
            "[20,   196] loss: 0.077\n",
            "[21,   196] loss: 0.076\n",
            "[22,   196] loss: 0.075\n",
            "[23,   196] loss: 0.074\n",
            "[24,   196] loss: 0.072\n",
            "[25,   196] loss: 0.072\n",
            "[26,   196] loss: 0.071\n",
            "[27,   196] loss: 0.070\n",
            "[28,   196] loss: 0.069\n",
            "[29,   196] loss: 0.069\n"
          ]
        },
        {
          "output_type": "error",
          "ename": "KeyboardInterrupt",
          "evalue": "ignored",
          "traceback": [
            "\u001b[0;31m---------------------------------------------------------------------------\u001b[0m",
            "\u001b[0;31mKeyboardInterrupt\u001b[0m                         Traceback (most recent call last)",
            "\u001b[0;32m<ipython-input-74-6b11b06ffeb4>\u001b[0m in \u001b[0;36m<cell line: 1>\u001b[0;34m()\u001b[0m\n\u001b[1;32m     18\u001b[0m \u001b[0;34m\u001b[0m\u001b[0m\n\u001b[1;32m     19\u001b[0m         \u001b[0;31m# print statistics\u001b[0m\u001b[0;34m\u001b[0m\u001b[0;34m\u001b[0m\u001b[0m\n\u001b[0;32m---> 20\u001b[0;31m         \u001b[0mrunning_loss\u001b[0m \u001b[0;34m+=\u001b[0m \u001b[0mloss\u001b[0m\u001b[0;34m.\u001b[0m\u001b[0mitem\u001b[0m\u001b[0;34m(\u001b[0m\u001b[0;34m)\u001b[0m\u001b[0;34m\u001b[0m\u001b[0;34m\u001b[0m\u001b[0m\n\u001b[0m\u001b[1;32m     21\u001b[0m         '''\n\u001b[1;32m     22\u001b[0m         \u001b[0;32mif\u001b[0m \u001b[0mi\u001b[0m \u001b[0;34m%\u001b[0m \u001b[0;36m1000\u001b[0m \u001b[0;34m==\u001b[0m \u001b[0;36m999\u001b[0m\u001b[0;34m:\u001b[0m    \u001b[0;31m# print every 2000 mini-batches\u001b[0m\u001b[0;34m\u001b[0m\u001b[0;34m\u001b[0m\u001b[0m\n",
            "\u001b[0;31mKeyboardInterrupt\u001b[0m: "
          ]
        }
      ]
    },
    {
      "cell_type": "code",
      "source": [
        "img_compare = testset[0][0].cuda()"
      ],
      "metadata": {
        "id": "WKk2e_FbHutR"
      },
      "execution_count": null,
      "outputs": []
    },
    {
      "cell_type": "code",
      "source": [
        "def imshow(img):\n",
        "    img = img / 2 + 0.5     # unnormalize\n",
        "    npimg = img.numpy()\n",
        "    plt.imshow(np.transpose(npimg, (1, 2, 0)))\n",
        "    plt.show()\n",
        "\n",
        "imshow(img_compare.detach().cpu())"
      ],
      "metadata": {
        "colab": {
          "base_uri": "https://localhost:8080/",
          "height": 468
        },
        "id": "85FEGBFTH0Ea",
        "outputId": "2bb8bfae-865d-419e-b24c-61e3a5f12b17"
      },
      "execution_count": null,
      "outputs": [
        {
          "output_type": "stream",
          "name": "stderr",
          "text": [
            "WARNING:matplotlib.image:Clipping input data to the valid range for imshow with RGB data ([0..1] for floats or [0..255] for integers).\n"
          ]
        },
        {
          "output_type": "display_data",
          "data": {
            "text/plain": [
              "<Figure size 640x480 with 1 Axes>"
            ],
            "image/png": "[encoded data removed]"
          },
          "metadata": {}
        }
      ]
    },
    {
      "cell_type": "code",
      "source": [
        "\n"
      ],
      "metadata": {
        "id": "iOixDcYuKu7F"
      },
      "execution_count": null,
      "outputs": []
    },
    {
      "cell_type": "code",
      "source": [
        "target = img_compare[None,:,:,:]\n",
        "result = net_decoder.partial_eval((net_decrypt.partial_eval(target)))\n",
        "imshow(result[0].detach().cpu())"
      ],
      "metadata": {
        "colab": {
          "base_uri": "https://localhost:8080/",
          "height": 468
        },
        "id": "Xh2HWHJl64Po",
        "outputId": "91bf1072-cf5e-4785-8a7e-89442a835a64"
      },
      "execution_count": null,
      "outputs": [
        {
          "output_type": "stream",
          "name": "stderr",
          "text": [
            "WARNING:matplotlib.image:Clipping input data to the valid range for imshow with RGB data ([0..1] for floats or [0..255] for integers).\n"
          ]
        },
        {
          "output_type": "display_data",
          "data": {
            "text/plain": [
              "<Figure size 640x480 with 1 Axes>"
            ],
            "image/png": "[encoded data removed]"
          },
          "metadata": {}
        }
      ]
    },
    {
      "cell_type": "code",
      "source": [
        "target = img_compare[None,:,:,:]\n",
        "result = net_decoder.partial_eval((net.partial_eval(target)))\n",
        "imshow(result[0].detach().cpu())"
      ],
      "metadata": {
        "colab": {
          "base_uri": "https://localhost:8080/",
          "height": 468
        },
        "id": "uW0mbi9NIA2E",
        "outputId": "d5db4c8f-c5e8-474d-f00e-3d4befd7a013"
      },
      "execution_count": null,
      "outputs": [
        {
          "output_type": "stream",
          "name": "stderr",
          "text": [
            "WARNING:matplotlib.image:Clipping input data to the valid range for imshow with RGB data ([0..1] for floats or [0..255] for integers).\n"
          ]
        },
        {
          "output_type": "display_data",
          "data": {
            "text/plain": [
              "<Figure size 640x480 with 1 Axes>"
            ],
            "image/png": "[encoded data removed]"
          },
          "metadata": {}
        }
      ]
    },
    {
      "cell_type": "markdown",
      "source": [
        "compare weights between two models"
      ],
      "metadata": {
        "id": "pGpaLxnU-hrE"
      }
    },
    {
      "cell_type": "code",
      "source": [
        "weight_diff = [(x - y).abs().sum() for x, y in zip(net.state_dict().values(), net_decrypt.state_dict().values())]"
      ],
      "metadata": {
        "id": "B_B7D2qA-j1i"
      },
      "execution_count": null,
      "outputs": []
    },
    {
      "cell_type": "code",
      "source": [
        "net.state_dict().keys()"
      ],
      "metadata": {
        "colab": {
          "base_uri": "https://localhost:8080/"
        },
        "id": "qbw7fNfGBipc",
        "outputId": "72e560bd-63dc-4a02-aedc-16fbd3e8977f"
      },
      "execution_count": null,
      "outputs": [
        {
          "output_type": "execute_result",
          "data": {
            "text/plain": [
              "odict_keys(['conv1.weight', 'conv1.bias', 'bn1.weight', 'bn1.bias', 'bn1.running_mean', 'bn1.running_var', 'bn1.num_batches_tracked', 'layer1.0.conv1.weight', 'layer1.0.conv1.bias', 'layer1.0.bn1.weight', 'layer1.0.bn1.bias', 'layer1.0.bn1.running_mean', 'layer1.0.bn1.running_var', 'layer1.0.bn1.num_batches_tracked', 'layer1.0.conv2.weight', 'layer1.0.conv2.bias', 'layer1.0.bn2.weight', 'layer1.0.bn2.bias', 'layer1.0.bn2.running_mean', 'layer1.0.bn2.running_var', 'layer1.0.bn2.num_batches_tracked', 'layer1.0.conv3.weight', 'layer1.0.conv3.bias', 'layer1.0.bn3.weight', 'layer1.0.bn3.bias', 'layer1.0.bn3.running_mean', 'layer1.0.bn3.running_var', 'layer1.0.bn3.num_batches_tracked', 'layer1.0.identity_downsample.0.weight', 'layer1.0.identity_downsample.0.bias', 'layer1.0.identity_downsample.1.weight', 'layer1.0.identity_downsample.1.bias', 'layer1.0.identity_downsample.1.running_mean', 'layer1.0.identity_downsample.1.running_var', 'layer1.0.identity_downsample.1.num_batches_tracked', 'layer1.1.conv1.weight', 'layer1.1.conv1.bias', 'layer1.1.bn1.weight', 'layer1.1.bn1.bias', 'layer1.1.bn1.running_mean', 'layer1.1.bn1.running_var', 'layer1.1.bn1.num_batches_tracked', 'layer1.1.conv2.weight', 'layer1.1.conv2.bias', 'layer1.1.bn2.weight', 'layer1.1.bn2.bias', 'layer1.1.bn2.running_mean', 'layer1.1.bn2.running_var', 'layer1.1.bn2.num_batches_tracked', 'layer1.1.conv3.weight', 'layer1.1.conv3.bias', 'layer1.1.bn3.weight', 'layer1.1.bn3.bias', 'layer1.1.bn3.running_mean', 'layer1.1.bn3.running_var', 'layer1.1.bn3.num_batches_tracked', 'layer2.0.conv1.weight', 'layer2.0.conv1.bias', 'layer2.0.bn1.weight', 'layer2.0.bn1.bias', 'layer2.0.bn1.running_mean', 'layer2.0.bn1.running_var', 'layer2.0.bn1.num_batches_tracked', 'layer2.0.conv2.weight', 'layer2.0.conv2.bias', 'layer2.0.bn2.weight', 'layer2.0.bn2.bias', 'layer2.0.bn2.running_mean', 'layer2.0.bn2.running_var', 'layer2.0.bn2.num_batches_tracked', 'layer2.0.conv3.weight', 'layer2.0.conv3.bias', 'layer2.0.bn3.weight', 'layer2.0.bn3.bias', 'layer2.0.bn3.running_mean', 'layer2.0.bn3.running_var', 'layer2.0.bn3.num_batches_tracked', 'layer2.0.identity_downsample.0.weight', 'layer2.0.identity_downsample.0.bias', 'layer2.0.identity_downsample.1.weight', 'layer2.0.identity_downsample.1.bias', 'layer2.0.identity_downsample.1.running_mean', 'layer2.0.identity_downsample.1.running_var', 'layer2.0.identity_downsample.1.num_batches_tracked', 'layer2.1.conv1.weight', 'layer2.1.conv1.bias', 'layer2.1.bn1.weight', 'layer2.1.bn1.bias', 'layer2.1.bn1.running_mean', 'layer2.1.bn1.running_var', 'layer2.1.bn1.num_batches_tracked', 'layer2.1.conv2.weight', 'layer2.1.conv2.bias', 'layer2.1.bn2.weight', 'layer2.1.bn2.bias', 'layer2.1.bn2.running_mean', 'layer2.1.bn2.running_var', 'layer2.1.bn2.num_batches_tracked', 'layer2.1.conv3.weight', 'layer2.1.conv3.bias', 'layer2.1.bn3.weight', 'layer2.1.bn3.bias', 'layer2.1.bn3.running_mean', 'layer2.1.bn3.running_var', 'layer2.1.bn3.num_batches_tracked', 'layer3.0.conv1.weight', 'layer3.0.conv1.bias', 'layer3.0.bn1.weight', 'layer3.0.bn1.bias', 'layer3.0.bn1.running_mean', 'layer3.0.bn1.running_var', 'layer3.0.bn1.num_batches_tracked', 'layer3.0.conv2.weight', 'layer3.0.conv2.bias', 'layer3.0.bn2.weight', 'layer3.0.bn2.bias', 'layer3.0.bn2.running_mean', 'layer3.0.bn2.running_var', 'layer3.0.bn2.num_batches_tracked', 'layer3.0.conv3.weight', 'layer3.0.conv3.bias', 'layer3.0.bn3.weight', 'layer3.0.bn3.bias', 'layer3.0.bn3.running_mean', 'layer3.0.bn3.running_var', 'layer3.0.bn3.num_batches_tracked', 'layer3.0.identity_downsample.0.weight', 'layer3.0.identity_downsample.0.bias', 'layer3.0.identity_downsample.1.weight', 'layer3.0.identity_downsample.1.bias', 'layer3.0.identity_downsample.1.running_mean', 'layer3.0.identity_downsample.1.running_var', 'layer3.0.identity_downsample.1.num_batches_tracked', 'layer3.1.conv1.weight', 'layer3.1.conv1.bias', 'layer3.1.bn1.weight', 'layer3.1.bn1.bias', 'layer3.1.bn1.running_mean', 'layer3.1.bn1.running_var', 'layer3.1.bn1.num_batches_tracked', 'layer3.1.conv2.weight', 'layer3.1.conv2.bias', 'layer3.1.bn2.weight', 'layer3.1.bn2.bias', 'layer3.1.bn2.running_mean', 'layer3.1.bn2.running_var', 'layer3.1.bn2.num_batches_tracked', 'layer3.1.conv3.weight', 'layer3.1.conv3.bias', 'layer3.1.bn3.weight', 'layer3.1.bn3.bias', 'layer3.1.bn3.running_mean', 'layer3.1.bn3.running_var', 'layer3.1.bn3.num_batches_tracked', 'layer4.0.conv1.weight', 'layer4.0.conv1.bias', 'layer4.0.bn1.weight', 'layer4.0.bn1.bias', 'layer4.0.bn1.running_mean', 'layer4.0.bn1.running_var', 'layer4.0.bn1.num_batches_tracked', 'layer4.0.conv2.weight', 'layer4.0.conv2.bias', 'layer4.0.bn2.weight', 'layer4.0.bn2.bias', 'layer4.0.bn2.running_mean', 'layer4.0.bn2.running_var', 'layer4.0.bn2.num_batches_tracked', 'layer4.0.conv3.weight', 'layer4.0.conv3.bias', 'layer4.0.bn3.weight', 'layer4.0.bn3.bias', 'layer4.0.bn3.running_mean', 'layer4.0.bn3.running_var', 'layer4.0.bn3.num_batches_tracked', 'layer4.0.identity_downsample.0.weight', 'layer4.0.identity_downsample.0.bias', 'layer4.0.identity_downsample.1.weight', 'layer4.0.identity_downsample.1.bias', 'layer4.0.identity_downsample.1.running_mean', 'layer4.0.identity_downsample.1.running_var', 'layer4.0.identity_downsample.1.num_batches_tracked', 'layer4.1.conv1.weight', 'layer4.1.conv1.bias', 'layer4.1.bn1.weight', 'layer4.1.bn1.bias', 'layer4.1.bn1.running_mean', 'layer4.1.bn1.running_var', 'layer4.1.bn1.num_batches_tracked', 'layer4.1.conv2.weight', 'layer4.1.conv2.bias', 'layer4.1.bn2.weight', 'layer4.1.bn2.bias', 'layer4.1.bn2.running_mean', 'layer4.1.bn2.running_var', 'layer4.1.bn2.num_batches_tracked', 'layer4.1.conv3.weight', 'layer4.1.conv3.bias', 'layer4.1.bn3.weight', 'layer4.1.bn3.bias', 'layer4.1.bn3.running_mean', 'layer4.1.bn3.running_var', 'layer4.1.bn3.num_batches_tracked', 'fc.weight', 'fc.bias'])"
            ]
          },
          "metadata": {},
          "execution_count": 60
        }
      ]
    },
    {
      "cell_type": "code",
      "source": [
        "net_values = []\n",
        "for n,_ in net.named_parameters():\n",
        "  net_values.append(net.state_dict()[n])\n",
        "net_decrypt_values = []\n",
        "for n,_ in net_decrypt.named_parameters():\n",
        "  net_decrypt_values.append(net_decrypt.state_dict()[n])"
      ],
      "metadata": {
        "id": "lYfuT4lHAvss"
      },
      "execution_count": null,
      "outputs": []
    },
    {
      "cell_type": "code",
      "source": [
        "diff = [net_decrypt_values[i] - net_values[i] for i in range(len(net_values))]"
      ],
      "metadata": {
        "id": "huswGHtG_KA0"
      },
      "execution_count": null,
      "outputs": []
    },
    {
      "cell_type": "code",
      "source": [
        "cos = torch.nn.CosineSimilarity(dim=0).to(device)\n",
        "i = 0\n",
        "for n,_ in net_decrypt.named_parameters():\n",
        "  output = cos(torch.flatten(net_values[i]), torch.flatten(net_decrypt_values[i]))\n",
        "  print(n+'\\t\\t\\t'+str(output.cpu().numpy()))\n",
        "  i+=1"
      ],
      "metadata": {
        "colab": {
          "base_uri": "https://localhost:8080/"
        },
        "id": "aG-AapxsCUMf",
        "outputId": "a29177a8-9167-4bb9-f5ec-7ff5e476ded4"
      },
      "execution_count": null,
      "outputs": [
        {
          "output_type": "stream",
          "name": "stdout",
          "text": [
            "enc1.weight\t\t\t0.0248543\n",
            "enc1.bias\t\t\t-0.040352307\n",
            "enc2.weight\t\t\t0.99136543\n",
            "enc2.bias\t\t\t0.269043\n",
            "enc_layer1.0.conv1.weight\t\t\t0.02394851\n",
            "enc_layer1.0.conv1.bias\t\t\t-0.07429153\n",
            "enc_layer1.0.bn1.weight\t\t\t1.0\n",
            "enc_layer1.0.bn1.bias\t\t\t0.0\n",
            "enc_layer1.0.conv2.weight\t\t\t0.0059722904\n",
            "enc_layer1.0.conv2.bias\t\t\t-0.056167904\n",
            "enc_layer1.0.bn2.weight\t\t\t0.99675333\n",
            "enc_layer1.0.bn2.bias\t\t\t0.31944263\n",
            "enc_layer1.0.conv3.weight\t\t\t-0.0016735625\n",
            "enc_layer1.0.conv3.bias\t\t\t0.0057369545\n",
            "enc_layer1.0.bn3.weight\t\t\t0.99490535\n",
            "enc_layer1.0.bn3.bias\t\t\t0.046297792\n",
            "enc_layer1.0.identity_downsample.0.weight\t\t\t-0.0018739784\n",
            "enc_layer1.0.identity_downsample.0.bias\t\t\t0.08620225\n",
            "enc_layer1.0.identity_downsample.1.weight\t\t\t0.99098605\n",
            "enc_layer1.0.identity_downsample.1.bias\t\t\t0.046297792\n",
            "enc_layer1.1.conv1.weight\t\t\t0.0049554654\n",
            "enc_layer1.1.conv1.bias\t\t\t0.029795337\n",
            "enc_layer1.1.bn1.weight\t\t\t1.0\n",
            "enc_layer1.1.bn1.bias\t\t\t0.0\n",
            "enc_layer1.1.conv2.weight\t\t\t0.002168947\n",
            "enc_layer1.1.conv2.bias\t\t\t-0.2096956\n",
            "enc_layer1.1.bn2.weight\t\t\t0.9983968\n",
            "enc_layer1.1.bn2.bias\t\t\t0.31423867\n",
            "enc_layer1.1.conv3.weight\t\t\t-0.0044452297\n",
            "enc_layer1.1.conv3.bias\t\t\t0.12641928\n",
            "enc_layer1.1.bn3.weight\t\t\t0.99524045\n",
            "enc_layer1.1.bn3.bias\t\t\t-0.7979157\n",
            "layer2.0.conv1.weight\t\t\t0.99999994\n",
            "layer2.0.conv1.bias\t\t\t1.0\n",
            "layer2.0.bn1.weight\t\t\t0.99999994\n",
            "layer2.0.bn1.bias\t\t\t0.0\n",
            "layer2.0.conv2.weight\t\t\t1.0\n",
            "layer2.0.conv2.bias\t\t\t0.99999994\n",
            "layer2.0.bn2.weight\t\t\t1.0\n",
            "layer2.0.bn2.bias\t\t\t0.99999994\n",
            "layer2.0.conv3.weight\t\t\t1.0\n",
            "layer2.0.conv3.bias\t\t\t1.0\n",
            "layer2.0.bn3.weight\t\t\t0.9999999\n",
            "layer2.0.bn3.bias\t\t\t1.0\n",
            "layer2.0.identity_downsample.0.weight\t\t\t1.0000001\n",
            "layer2.0.identity_downsample.0.bias\t\t\t1.0\n",
            "layer2.0.identity_downsample.1.weight\t\t\t1.0\n",
            "layer2.0.identity_downsample.1.bias\t\t\t1.0\n",
            "layer2.1.conv1.weight\t\t\t1.0\n",
            "layer2.1.conv1.bias\t\t\t1.0\n",
            "layer2.1.bn1.weight\t\t\t0.99999994\n",
            "layer2.1.bn1.bias\t\t\t0.0\n",
            "layer2.1.conv2.weight\t\t\t1.0\n",
            "layer2.1.conv2.bias\t\t\t1.0\n",
            "layer2.1.bn2.weight\t\t\t1.0\n",
            "layer2.1.bn2.bias\t\t\t1.0\n",
            "layer2.1.conv3.weight\t\t\t1.0\n",
            "layer2.1.conv3.bias\t\t\t0.99999994\n",
            "layer2.1.bn3.weight\t\t\t0.99999994\n",
            "layer2.1.bn3.bias\t\t\t1.0\n",
            "layer3.0.conv1.weight\t\t\t1.0\n",
            "layer3.0.conv1.bias\t\t\t1.0000001\n",
            "layer3.0.bn1.weight\t\t\t1.0\n",
            "layer3.0.bn1.bias\t\t\t0.0\n",
            "layer3.0.conv2.weight\t\t\t1.0\n",
            "layer3.0.conv2.bias\t\t\t1.0\n",
            "layer3.0.bn2.weight\t\t\t1.0000001\n",
            "layer3.0.bn2.bias\t\t\t1.0\n",
            "layer3.0.conv3.weight\t\t\t1.0\n",
            "layer3.0.conv3.bias\t\t\t1.0\n",
            "layer3.0.bn3.weight\t\t\t1.0\n",
            "layer3.0.bn3.bias\t\t\t1.0\n",
            "layer3.0.identity_downsample.0.weight\t\t\t1.0\n",
            "layer3.0.identity_downsample.0.bias\t\t\t1.0\n",
            "layer3.0.identity_downsample.1.weight\t\t\t0.99999994\n",
            "layer3.0.identity_downsample.1.bias\t\t\t1.0\n",
            "layer3.1.conv1.weight\t\t\t0.9999999\n",
            "layer3.1.conv1.bias\t\t\t1.0\n",
            "layer3.1.bn1.weight\t\t\t1.0\n",
            "layer3.1.bn1.bias\t\t\t0.0\n",
            "layer3.1.conv2.weight\t\t\t1.0\n",
            "layer3.1.conv2.bias\t\t\t0.9999999\n",
            "layer3.1.bn2.weight\t\t\t0.99999994\n",
            "layer3.1.bn2.bias\t\t\t0.99999994\n",
            "layer3.1.conv3.weight\t\t\t1.0\n",
            "layer3.1.conv3.bias\t\t\t1.0\n",
            "layer3.1.bn3.weight\t\t\t1.0\n",
            "layer3.1.bn3.bias\t\t\t1.0000001\n",
            "enc_layer4.0.conv1.weight\t\t\t0.0013017489\n",
            "enc_layer4.0.conv1.bias\t\t\t-0.043149106\n",
            "enc_layer4.0.bn1.weight\t\t\t0.99999994\n",
            "enc_layer4.0.bn1.bias\t\t\t0.0\n",
            "enc_layer4.0.conv2.weight\t\t\t0.00077851576\n",
            "enc_layer4.0.conv2.bias\t\t\t-0.050174266\n",
            "enc_layer4.0.bn2.weight\t\t\t0.99981606\n",
            "enc_layer4.0.bn2.bias\t\t\t0.5555887\n",
            "enc_layer4.0.conv3.weight\t\t\t0.0022343402\n",
            "enc_layer4.0.conv3.bias\t\t\t0.054468386\n",
            "enc_layer4.0.bn3.weight\t\t\t0.9995894\n",
            "enc_layer4.0.bn3.bias\t\t\t-0.06526807\n",
            "enc_layer4.0.identity_downsample.0.weight\t\t\t-0.0019011066\n",
            "enc_layer4.0.identity_downsample.0.bias\t\t\t-0.0073221643\n",
            "enc_layer4.0.identity_downsample.1.weight\t\t\t0.9997585\n",
            "enc_layer4.0.identity_downsample.1.bias\t\t\t-0.06526807\n",
            "enc_layer4.1.conv1.weight\t\t\t0.0009312658\n",
            "enc_layer4.1.conv1.bias\t\t\t-0.004449689\n",
            "enc_layer4.1.bn1.weight\t\t\t0.99999994\n",
            "enc_layer4.1.bn1.bias\t\t\t0.0\n",
            "enc_layer4.1.conv2.weight\t\t\t-0.0016863423\n",
            "enc_layer4.1.conv2.bias\t\t\t0.032792777\n",
            "enc_layer4.1.bn2.weight\t\t\t0.99994516\n",
            "enc_layer4.1.bn2.bias\t\t\t0.61870384\n",
            "enc_layer4.1.conv3.weight\t\t\t-4.3486594e-05\n",
            "enc_layer4.1.conv3.bias\t\t\t-0.02351086\n",
            "enc_layer4.1.bn3.weight\t\t\t0.9998052\n",
            "enc_layer4.1.bn3.bias\t\t\t0.8201267\n",
            "enc_fc.weight\t\t\t-0.013623277\n",
            "enc_fc.bias\t\t\t0.38616005\n"
          ]
        }
      ]
    },
    {
      "cell_type": "markdown",
      "source": [
        "compare imtermediate images"
      ],
      "metadata": {
        "id": "S10P0ACDHzpD"
      }
    },
    {
      "cell_type": "code",
      "source": [
        "corr = []\n",
        "\n",
        "# since we're not training, we don't need to calculate the gradients for our outputs\n",
        "cos = torch.nn.CosineSimilarity(dim=0).to(device)\n",
        "with torch.no_grad():\n",
        "    for data in testloader:\n",
        "        images, labels = data\n",
        "        images, labels = images.cuda(), labels.cuda()\n",
        "        '''\n",
        "        # calculate outputs by running images through the network\n",
        "        intermediate = net.partial_eval(images)\n",
        "        print(intermediate.shape)\n",
        "        sh = images[0,:,:,:].cpu().numpy()\n",
        "        sh = sh/2+0.5\n",
        "        plt.imshow(np.transpose(sh, (1,2,0)))\n",
        "        plt.show()\n",
        "        plt.imshow(intermediate[0,1,:,:].cpu().numpy())\n",
        "        break\n",
        "        outputs = net_decrypt.partial_out(intermediate)\n",
        "        '''\n",
        "        ori_inter = net.partial_eval(images)\n",
        "        decrypt_inter = net_decrypt.partial_eval(images)\n",
        "        corr.append(cos(torch.flatten(ori_inter),torch.flatten(decrypt_inter)))\n",
        "\n",
        "\n",
        "print(corr[:10])"
      ],
      "metadata": {
        "colab": {
          "base_uri": "https://localhost:8080/"
        },
        "id": "fRcoAYH-HzZl",
        "outputId": "a8689e00-9e62-4da5-f6f5-e02891074013"
      },
      "execution_count": null,
      "outputs": [
        {
          "output_type": "stream",
          "name": "stdout",
          "text": [
            "[tensor(0.4085, device='cuda:0'), tensor(0.4051, device='cuda:0'), tensor(0.4034, device='cuda:0'), tensor(0.4021, device='cuda:0'), tensor(0.4012, device='cuda:0'), tensor(0.4135, device='cuda:0'), tensor(0.3963, device='cuda:0'), tensor(0.3992, device='cuda:0'), tensor(0.4094, device='cuda:0'), tensor(0.4050, device='cuda:0')]\n"
          ]
        }
      ]
    },
    {
      "cell_type": "code",
      "source": [
        "sum(corr)/len(corr)"
      ],
      "metadata": {
        "colab": {
          "base_uri": "https://localhost:8080/"
        },
        "id": "g5kCx4SYHzLf",
        "outputId": "8be16426-93a6-475f-dfe5-6778fa08d532"
      },
      "execution_count": null,
      "outputs": [
        {
          "output_type": "execute_result",
          "data": {
            "text/plain": [
              "tensor(0.4066, device='cuda:0')"
            ]
          },
          "metadata": {},
          "execution_count": 65
        }
      ]
    },
    {
      "cell_type": "markdown",
      "source": [
        "## store data"
      ],
      "metadata": {
        "id": "go805VRsEhUs"
      }
    },
    {
      "cell_type": "code",
      "source": [
        "from google.colab import drive\n",
        "drive.mount('/content/drive')"
      ],
      "metadata": {
        "colab": {
          "base_uri": "https://localhost:8080/"
        },
        "id": "qvbRzZ1AEgyQ",
        "outputId": "76a7acc4-fda4-48f6-919f-6e5ee48f39b8"
      },
      "execution_count": null,
      "outputs": [
        {
          "output_type": "stream",
          "name": "stdout",
          "text": [
            "Mounted at /content/drive\n"
          ]
        }
      ]
    },
    {
      "cell_type": "code",
      "source": [
        "!cp /content/LeNet.pth /content/drive/MyDrive/security_weight\n",
        "!cp /content/LeNet_decrypt.pth /content/drive/MyDrive/security_weight\n",
        "!cp /content/LeNet_pr.pth /content/drive/MyDrive/security_weight"
      ],
      "metadata": {
        "id": "Hg7V-tf-pfhW"
      },
      "execution_count": null,
      "outputs": []
    },
    {
      "cell_type": "markdown",
      "source": [
        "### additional"
      ],
      "metadata": {
        "id": "uLLZhP9Y1hUS"
      }
    }
  ]
}